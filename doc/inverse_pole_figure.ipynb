{
 "cells": [
  {
   "cell_type": "markdown",
   "id": "b82f51da-5413-4e00-bfed-c6f53f7502ee",
   "metadata": {},
   "source": [
    "# Inverse pole figure"
   ]
  },
  {
   "cell_type": "code",
   "execution_count": null,
   "id": "35bbfb73-8d49-4d24-bd88-cf7e81592f9e",
   "metadata": {},
   "outputs": [],
   "source": [
    "%matplotlib inline\n",
    "\n",
    "import matplotlib.pyplot as plt\n",
    "import numpy as np\n",
    "from orix.crystal_map import Phase\n",
    "from orix.quaternion import Orientation, symmetry\n",
    "from orix import plot\n",
    "from orix.vector import Miller, Vector3d\n",
    "\n",
    "\n",
    "# We'll want our plots to look a bit larger than the default size\n",
    "new_params = {\n",
    "    \"figure.facecolor\": \"w\",\n",
    "    \"figure.figsize\": (20, 7),\n",
    "    \"lines.markersize\": 10,\n",
    "    \"font.size\": 15,\n",
    "    \"axes.grid\": True,\n",
    "}\n",
    "plt.rcParams.update(new_params)"
   ]
  },
  {
   "cell_type": "markdown",
   "id": "2d39a57c-7363-4a0e-a8cb-dccb64ed94c7",
   "metadata": {},
   "source": [
    "## Laue groups and corresponding non-centrosymmetric groups\n",
    "\n",
    "| Laue            | Non-centrosymmetric        |\n",
    "| --------------- | -------------------------- |\n",
    "| $\\bar{1}$       | 1                          |\n",
    "| 2/*m*           | 2, *m*                     |\n",
    "| *mmm*           | 222, 2*mm*                 |\n",
    "| $\\bar{3}$       | 3                          |\n",
    "| $\\bar{3}$*m*    | 32, 3*m*                   |\n",
    "| 4/$m$           | 4, $\\bar{4}$               |\n",
    "| 4/$mmm$         | 422, $\\bar{4}$2*m*         |\n",
    "| 6/$m$           | 6, $\\bar{6}$               |\n",
    "| 6/*mmm*         | 622, $\\bar{6}$2*m*, 6*mmm* |\n",
    "| *m*$\\bar{3}$    | 23                         |\n",
    "| *m*$\\bar{3}$*m* | 432, $\\bar{4}$3*m*         |"
   ]
  },
  {
   "cell_type": "code",
   "execution_count": null,
   "id": "07fc2319-42af-40b0-b866-871c07e85b08",
   "metadata": {},
   "outputs": [],
   "source": [
    "pg_laue = [\n",
    "    symmetry.Ci,\n",
    "    symmetry.C2h,\n",
    "    symmetry.D2h,\n",
    "    symmetry.S6,\n",
    "    symmetry.D3d,\n",
    "    symmetry.C4h,\n",
    "    symmetry.D4h,\n",
    "    symmetry.C6h,\n",
    "    symmetry.D6h,\n",
    "    symmetry.Th,\n",
    "    symmetry.Oh,\n",
    "]"
   ]
  },
  {
   "cell_type": "code",
   "execution_count": null,
   "id": "f88fb7f1-51a8-4238-977b-d39d87eba01a",
   "metadata": {},
   "outputs": [],
   "source": [
    "euler = (325, 48, 163)\n",
    "#euler = (175, 69, 129)\n",
    "\n",
    "direction = Vector3d(((1, 0, 0), (0, 1, 0), (0, 0, 1)))\n",
    "kwargs = dict(projection=\"ipf\", direction=direction)\n",
    "\n",
    "for pg in pg_laue:\n",
    "    ori = Orientation.from_euler(np.radians(euler), pg)\n",
    "    ori.scatter(**kwargs)"
   ]
  }
 ],
 "metadata": {
  "kernelspec": {
   "display_name": "Python 3 (ipykernel)",
   "language": "python",
   "name": "python3"
  },
  "language_info": {
   "codemirror_mode": {
    "name": "ipython",
    "version": 3
   },
   "file_extension": ".py",
   "mimetype": "text/x-python",
   "name": "python",
   "nbconvert_exporter": "python",
   "pygments_lexer": "ipython3",
   "version": "3.9.7"
  }
 },
 "nbformat": 4,
 "nbformat_minor": 5
}
