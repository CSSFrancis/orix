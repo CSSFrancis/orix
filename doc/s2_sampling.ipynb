{
 "cells": [
  {
   "cell_type": "markdown",
   "id": "4d8e73c9",
   "metadata": {"nbsphinx": "hidden"},
   "source": [
    "This notebook is part of the *orix* documentation https://orix.readthedocs.io. Links to the documentation won’t work from the notebook."
   ]
  },
  {
   "cell_type": "markdown",
   "id": "a59fef6b",
   "metadata": {},
   "source": [
    "# Sampling unit vectors from $S_2$\n",
    "\n",
    "$S_2$ is the surface of the unit sphere, which is equivalent to the set of all unit vectors or directions in 3D space.\n",
    "There are multiple use cases for discretizing and sampling this space, for example for creating custom legends for inverse pole figure maps or for creating a list of unique crystal directions.\n",
    "Except for the platonic solids, it is not possible to sample the sphere surface such that each vector has an identical neighborhood, i.e. equal angles between nearest neighbors.\n",
    "A number of sampling or \"meshing\" techniques exist, a number of which have been implemented in orix."
   ]
  },
  {
   "cell_type": "code",
   "execution_count": null,
   "id": "e39db862",
   "metadata": {},
   "outputs": [],
   "source": [
    "%matplotlib inline"
   ]
  },
  {
   "cell_type": "code",
   "execution_count": null,
   "id": "a3034ae9",
   "metadata": {},
   "outputs": [],
   "source": [
    "import numpy as np\n",
    "import matplotlib.pyplot as plt\n",
    "\n",
    "from orix import plot\n",
    "from orix.crystal_map import Phase\n",
    "from orix.quaternion import Orientation, symmetry\n",
    "from orix.sampling import S2_sampling\n",
    "from orix.vector import Vector3d"
   ]
  },
  {
   "cell_type": "markdown",
   "id": "c7f9e64c",
   "metadata": {},
   "source": [
    "## Sampling methods\n",
    "Currently 7 sampling methods are supported, demonstrated below by plotting in stereographic projection, each with different regions of higher and lower sampling density.\n",
    "The user should mainly decide on the `resolution` parameter, which determines the maximum angle (in degrees) between nearest neighbors except in the `random` sample where it determines the **average** angle between nearest neighbors."
   ]
  },
  {
   "cell_type": "code",
   "execution_count": null,
   "id": "4c696bea",
   "metadata": {},
   "outputs": [],
   "source": [
    "fig, axes = plt.subplots(2, 4, subplot_kw=dict(projection=\"stereographic\"), \n",
    "                         figsize=(20, 10), facecolor=\"white\")\n",
    "axes = axes.ravel()\n",
    "\n",
    "resolution = 5\n",
    "\n",
    "for i, (name, sampling_method) in enumerate(S2_sampling.SAMPLING_METHODS.items()):\n",
    "    vectors = sampling_method(resolution = 5)\n",
    "    axes[i].set_title(name, fontsize=20)\n",
    "    axes[i].scatter(vectors, s=2);"
   ]
  },
  {
   "cell_type": "markdown",
   "id": "a8fe0e70",
   "metadata": {},
   "source": [
    "## Sampling the fundamental zone\n",
    "Sampling of directions is most relevant when combined with crystal symmetry functionality.\n",
    "In this case, we would want to sample vectors in the real crystallographic basis.\n",
    "Usually one only wants to sample the fundamental zone, not the entire sphere, as in the context of a crystal, many vectors are symmetrically equivalent.\n",
    "The fundamental zone of a point group represents the smallest region of directions unique by symmetry.\n",
    "The higher the symmetry of the point group, the smaller the fundamental zone.\n",
    "\n",
    "The symmetry operations are independent of the S2 sampling methods, so any set of vectors can be limited to the fundamental zone.\n",
    "However, different meshes may be most appropriate for different point groups, as we illustrate.\n",
    "In general, to sample vectors for crystals with $\\alpha=\\beta=\\gamma=90^\\circ$, one of the `cube` meshes is recommended.\n",
    "For trigonal or hexagonal crystals that have a 3 or 6-fold axis along [001], a hexagonal mesh is recommended.\n",
    "This ensures that the boundary of the fundamental zone is also sampled at regular intervals, otherwise some of these edges may appear \"ragged\".\n",
    "For lower symmetry crystals, most samplings will be fine, and the icosahedral sampling may be recommended as points are most evenly spread.\n",
    "\n",
    "Below we demonstrate a sampling of the fundamental zones for all 32 point groups."
   ]
  },
  {
   "cell_type": "code",
   "execution_count": null,
   "id": "cf18d8c9",
   "metadata": {
    "scrolled": false
   },
   "outputs": [],
   "source": [
    "point_groups = symmetry._groups\n",
    "\n",
    "color_map = {\n",
    "    \"triclinic\": \"red\",\n",
    "    \"monoclinic\": \"orange\",\n",
    "    \"orthorhombic\": \"green\",\n",
    "    \"tetragonal\": \"blue\",\n",
    "    \"cubic\": \"brown\",\n",
    "    \"trigonal\": \"magenta\",\n",
    "    \"hexagonal\": \"purple\",\n",
    "}\n",
    "\n",
    "mesh_sampling_map = {\n",
    "    \"triclinic\": \"icosahedral\",\n",
    "    \"monoclinic\": \"icosahedral\",\n",
    "    \"orthorhombic\": \"spherified_cube_edge\",\n",
    "    \"tetragonal\": \"spherified_cube_edge\",\n",
    "    \"cubic\": \"spherified_cube_edge\",\n",
    "    \"trigonal\": \"hexagonal\",\n",
    "    \"hexagonal\": \"hexagonal\",\n",
    "}\n",
    "\n",
    "fig, axes = plt.subplots(len(point_groups), 2, subplot_kw=dict(projection=\"stereographic\"), figsize=(10, 5 * len(point_groups)), facecolor=\"white\")\n",
    "\n",
    "for i, point_group in enumerate(point_groups):\n",
    "    system = point_group.system\n",
    "    color = color_map[system]\n",
    "    meshing_method = mesh_sampling_map[system]\n",
    "    mesh = S2_sampling.SAMPLING_METHODS[meshing_method](resolution=3)\n",
    "    fundamental = mesh[mesh <= point_group.fundamental_sector]\n",
    "    axes[i][0].set_title(f\"{point_group.name} ({system}) (upper)\", fontsize=20)\n",
    "    axes[i][0].scatter(fundamental, s=2, c=color)\n",
    "    axes[i][1].set_title(f\"{point_group.name} ({system}) (lower)\", fontsize=20)\n",
    "    axes[i][1].hemisphere = \"lower\"\n",
    "    axes[i][1].scatter(fundamental, s=2, c=color);"
   ]
  }
 ],
 "metadata": {
  "kernelspec": {
   "display_name": "Python 3 (ipykernel)",
   "language": "python",
   "name": "python3"
  },
  "language_info": {
   "codemirror_mode": {
    "name": "ipython",
    "version": 3
   },
   "file_extension": ".py",
   "mimetype": "text/x-python",
   "name": "python",
   "nbconvert_exporter": "python",
   "pygments_lexer": "ipython3",
   "version": "3.9.12"
  }
 },
 "nbformat": 4,
 "nbformat_minor": 5
}
