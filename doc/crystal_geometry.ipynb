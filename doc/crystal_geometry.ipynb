{
 "cells": [
  {
   "cell_type": "markdown",
   "id": "fe4aca0e",
   "metadata": {
    "nbsphinx": "hidden"
   },
   "source": [
    "This notebook is part of the *orix* documentation https://orix.rtfd.io. Links to the documentation won’t work from the notebook."
   ]
  },
  {
   "cell_type": "markdown",
   "id": "cee78413",
   "metadata": {},
   "source": [
    "# Crystal geometry\n",
    "\n",
    "This notebook details how to perform operations with and plot directions with\n",
    "respect to the crystal reference system using Miller indices with the\n",
    "[orix.vector.Miller](reference.rst#orix.vector.Miller) class.\n",
    "\n",
    "Many of the initial examples, explaining basic crystallographic computations with\n",
    "crystal lattice directions $[uvw]$ and crystal lattice planes $(hkl)$, are taken\n",
    "from the textbook\n",
    "*Introduction to Conventional Transmission Electron Microscopy* (DeGraef, 2003).\n",
    "Some of the later examples are also inspired by MTEX' excellent documentation on\n",
    "[Miller indices](https://mtex-toolbox.github.io/CrystalDirections.html) and\n",
    "[operations with them](https://mtex-toolbox.github.io/CrystalOperations.html)."
   ]
  },
  {
   "cell_type": "code",
   "execution_count": null,
   "id": "b0e2b229",
   "metadata": {},
   "outputs": [],
   "source": [
    "%matplotlib inline\n",
    "\n",
    "from diffpy.structure import Lattice, Structure\n",
    "import matplotlib.pyplot as plt\n",
    "import numpy as np\n",
    "from orix.crystal_map import Phase\n",
    "from orix.quaternion import Orientation, Rotation, symmetry\n",
    "from orix.vector import AxAngle, Miller, Vector3d\n",
    "\n",
    "\n",
    "plt.rcParams.update({\n",
    "    \"figure.figsize\": (7, 7),\n",
    "    \"font.size\": 20,\n",
    "    \"axes.grid\": True,\n",
    "    \"lines.markersize\": 10,\n",
    "    \"lines.linewidth\": 2,\n",
    "})"
   ]
  },
  {
   "cell_type": "markdown",
   "id": "386c9906",
   "metadata": {},
   "source": [
    "To start with, let's create a tetragonal crystal with lattice parameters\n",
    "$a$ = $b$ = 0.5 nm and $c$ = 1 nm and symmetry elements described by point group\n",
    "*4*"
   ]
  },
  {
   "cell_type": "code",
   "execution_count": null,
   "id": "d6bdcae4",
   "metadata": {},
   "outputs": [],
   "source": [
    "tetragonal = Phase(\n",
    "    point_group=\"4\",\n",
    "    structure=Structure(lattice=Lattice(0.5, 0.5, 1, 90, 90, 90))\n",
    ")\n",
    "print(tetragonal)\n",
    "print(tetragonal.structure.lattice)"
   ]
  },
  {
   "cell_type": "markdown",
   "id": "b8db183f",
   "metadata": {},
   "source": [
    "Here, the [Phase](reference.rst#orix.crystal_map.Phase) class attaches a point group symmetry,\n",
    "[Symmetry](reference.rst#orix.quaternion.Symmetry), to a\n",
    "[Structure](https://www.diffpy.org/diffpy.structure/package.html#diffpy.structure.structure.Structure)\n",
    "containing a\n",
    "[Lattice](https://www.diffpy.org/diffpy.structure/mod_lattice.html#diffpy.structure.lattice.Lattice)\n",
    "(where the crystal axes are defined), and possibly some\n",
    "[Atom](https://www.diffpy.org/diffpy.structure/mod_atom.html#diffpy.structure.atom.Atom)s.\n",
    "\n",
    "## Directions $[uvw]$\n",
    "\n",
    "A crystal lattice direction $\\mathbf{m} = u \\cdot \\mathbf{a} + v \\cdot \\mathbf{b} + w \\cdot \\mathbf{c}$\n",
    "is a vector with coordinates $u, v, w$ with respect to the crystal axes $\\mathbf{a}, \\mathbf{b}, \\mathbf{c}$,\n",
    "and is denoted $[uvw]$. We can create a set of these Miller indices by passing a list/array/tuple to `uvw` in\n",
    "[Miller](reference.rst#orix.vector.Miller)"
   ]
  },
  {
   "cell_type": "code",
   "execution_count": null,
   "id": "217295d3",
   "metadata": {},
   "outputs": [],
   "source": [
    "m1 = Miller(uvw=[[1, 2, 0], [3, 1, 1]], phase=tetragonal)\n",
    "m1.scatter(axes_labels=[\"x\", \"y\", None], c=[\"b\", \"r\"])\n",
    "m1"
   ]
  },
  {
   "cell_type": "markdown",
   "id": "098b768e",
   "metadata": {},
   "source": [
    "Here, we plotted the lattice directions in the stereographic projection using the\n",
    "[Vector3d.scatter()](reference.rst#orix.vector.Vector3d.scatter) plotting\n",
    "method, which also works for `Miller.scatter()` since the `Miller` class\n",
    "inherits most of the functionality in the `Vector3d` class.\n",
    "\n",
    "Let's compute the dot product in nanometres and the angle in degrees between the vectors"
   ]
  },
  {
   "cell_type": "code",
   "execution_count": null,
   "id": "ac1f355c",
   "metadata": {},
   "outputs": [],
   "source": [
    "m1[0].dot(m1[1]).data"
   ]
  },
  {
   "cell_type": "code",
   "execution_count": null,
   "id": "a54f99e6",
   "metadata": {},
   "outputs": [],
   "source": [
    "np.rad2deg(m1[0].angle_with(m1[1]).data)"
   ]
  },
  {
   "cell_type": "markdown",
   "id": "1245df6c",
   "metadata": {},
   "source": [
    "The length of a direct lattice vector is available via the\n",
    "[Miller.length](reference.rst#orix.vector.Miller.length) property, given in\n",
    "lattice parameter units (nm in this case)"
   ]
  },
  {
   "cell_type": "code",
   "execution_count": null,
   "id": "7c1a336c",
   "metadata": {},
   "outputs": [],
   "source": [
    "Miller(uvw=[0, -0.5, 0.5], phase=tetragonal).length"
   ]
  },
  {
   "cell_type": "markdown",
   "id": "2f47681d",
   "metadata": {},
   "source": [
    "## Planes $(hkl)$\n",
    "\n",
    "A crystal lattice plane $(hkl)$ is described by its normal vector\n",
    "$\\mathbf{n} = h\\cdot\\mathbf{a^*} + k\\cdot\\mathbf{b^*} + l\\cdot\\mathbf{c^*}$,\n",
    "where $\\mathbf{a^*}, \\mathbf{b^*}, \\mathbf{c^*}$ are the reciprocal crystal\n",
    "axes. As for crystal directions $[uvw]$, we can create a set of these Miller\n",
    "indices by passing `hkl` instead of `uvw` to\n",
    "[Miller](reference.rst#orix.vector.Miller)"
   ]
  },
  {
   "cell_type": "code",
   "execution_count": null,
   "id": "97ab2e24",
   "metadata": {},
   "outputs": [],
   "source": [
    "m2 = Miller(hkl=m1.uvw, phase=tetragonal)\n",
    "m2.scatter(c=[\"y\", \"g\"], marker=\"*\")\n",
    "m2"
   ]
  },
  {
   "cell_type": "markdown",
   "id": "0feda31a",
   "metadata": {},
   "source": [
    "Let's compute the angle in degrees between the lattice plane normals"
   ]
  },
  {
   "cell_type": "code",
   "execution_count": null,
   "id": "fe6dfdea",
   "metadata": {},
   "outputs": [],
   "source": [
    "np.rad2deg(m2[0].angle_with(m2[1]).data)"
   ]
  },
  {
   "cell_type": "markdown",
   "id": "7d9f9fa0",
   "metadata": {},
   "source": [
    "Note that the lattice plane normals $(hkl)$ are not always parallel to the\n",
    "lattice directions $[uvw]$, even if the indices are the same"
   ]
  },
  {
   "cell_type": "code",
   "execution_count": null,
   "id": "01c639ac",
   "metadata": {},
   "outputs": [],
   "source": [
    "fig = m1.scatter(return_figure=True, c=[\"b\", \"r\"])\n",
    "m2.scatter(figure=fig, c=[\"y\", \"g\"], marker=\"*\")"
   ]
  },
  {
   "cell_type": "markdown",
   "id": "e8c151f0",
   "metadata": {},
   "source": [
    "We can get the reciprocal components of the lattice vector [114] (i.e. which\n",
    "lattice plane the [114] direction is perpendicular to) by accessing\n",
    "[Miller.hkl](reference.rst#orix.vector.Miller.hkl) for a `Miller` object with\n",
    "crystal directions (or [Miller.uvw](reference.rst#orix.vector.Miller.uvw) for a\n",
    "`Miller` object with crystal plane normals)"
   ]
  },
  {
   "cell_type": "code",
   "execution_count": null,
   "id": "1ccb8d97",
   "metadata": {},
   "outputs": [],
   "source": [
    "Miller(uvw=[1, 1, 4], phase=tetragonal).hkl"
   ]
  },
  {
   "cell_type": "markdown",
   "id": "8defac1a",
   "metadata": {},
   "source": [
    "We see that the lattice vector [114] is perpendicular to the lattice plane (1 1 16).\n",
    "\n",
    "The length of reciprocal lattice vectors can also be accessed via the\n",
    "`Miller.length` property, and equals\n",
    "$\\left|\\mathbf{g}_{\\mathrm{hkl}}\\right| = \\frac{1}{d_{\\mathrm{hkl}}}$ in\n",
    "reciprocal lattice parameter units (nm^-1 in this case), meaning we can obtain the\n",
    "interplanar spacing $d_{\\mathrm{hkl}}$"
   ]
  },
  {
   "cell_type": "code",
   "execution_count": null,
   "id": "f35efaa9",
   "metadata": {},
   "outputs": [],
   "source": [
    "m2.length"
   ]
  },
  {
   "cell_type": "code",
   "execution_count": null,
   "id": "1c86ca33",
   "metadata": {},
   "outputs": [],
   "source": [
    "1 / m2.length"
   ]
  },
  {
   "cell_type": "markdown",
   "id": "10d6db94",
   "metadata": {},
   "source": [
    "## Zone axes"
   ]
  },
  {
   "cell_type": "markdown",
   "id": "ba04cf95",
   "metadata": {},
   "source": [
    "The cross product of the lattice vectors [110] and [111] in the tetragonal\n",
    "crystal, in direct space, is described by a vector expressed in reciprocal\n",
    "space, $(hkl)$"
   ]
  },
  {
   "cell_type": "code",
   "execution_count": null,
   "id": "7fe2e918",
   "metadata": {},
   "outputs": [],
   "source": [
    "m3 = Miller(uvw=[[1, 1, 0], [1, 1, 1]], phase=tetragonal)\n",
    "m3perp = m3[0].cross(m3[1])\n",
    "m3perp"
   ]
  },
  {
   "cell_type": "markdown",
   "id": "4c417b29",
   "metadata": {},
   "source": [
    "The exact \"indices\" are returned, however, we can get a new `Miller` instance\n",
    "with the indices rounded down or up to the *closest* smallest integer via the\n",
    "[Miller.round()](reference.rst#orix.vector.Miller.round) method"
   ]
  },
  {
   "cell_type": "code",
   "execution_count": null,
   "id": "e487f8bd",
   "metadata": {},
   "outputs": [],
   "source": [
    "m3perp.round()"
   ]
  },
  {
   "cell_type": "markdown",
   "id": "e231bced",
   "metadata": {},
   "source": [
    "The maximum index that `Miller.round()` might return can be set by passing the\n",
    "`max_index` parameter.\n",
    "\n",
    "We can plot these direct lattice vectors $[uvw]$ and the vectors normal to the\n",
    "cross product vector, i.e. normal to the reciprocal lattice vector $(hkl)$"
   ]
  },
  {
   "cell_type": "code",
   "execution_count": null,
   "id": "2012b979",
   "metadata": {},
   "outputs": [],
   "source": [
    "fig = m3.scatter(return_figure=True, c=\"r\")\n",
    "m3perp.draw_circle(figure=fig, color=\"b\", linestyle=\"--\")"
   ]
  },
  {
   "cell_type": "markdown",
   "id": "783cbd70",
   "metadata": {},
   "source": [
    "Likewise, the cross product of reciprocal lattice vectors (110) and (111)\n",
    "results in a direct lattice vector"
   ]
  },
  {
   "cell_type": "code",
   "execution_count": null,
   "id": "a28a1b20",
   "metadata": {},
   "outputs": [],
   "source": [
    "m4 = Miller(hkl=[[1, 1, 0], [1, 1, 1]], phase=tetragonal)\n",
    "m4perp = m4[0].cross(m4[1]).round()\n",
    "m4perp"
   ]
  },
  {
   "cell_type": "code",
   "execution_count": null,
   "id": "dd9b0750",
   "metadata": {},
   "outputs": [],
   "source": [
    "fig = m4.scatter(return_figure=True, c=\"b\")\n",
    "m4perp.draw_circle(figure=fig, color=\"r\", linestyle=\"--\")"
   ]
  },
  {
   "cell_type": "markdown",
   "id": "fd7dec60",
   "metadata": {},
   "source": [
    "## Trigonal and hexagonal index conventions\n",
    "\n",
    "Crystal lattice vectors and planes in lattices with trigonal and hexagonal\n",
    "crystal symmetry are typically expressed in Weber symbols $[UVTW]$ and\n",
    "Miller-Bravais indices $(hkil)$. The definition of $[UVTW]$ used in orix follows\n",
    "*Introduction to Conventional Transmission Electron Microscopy* (DeGraef, 2003)\n",
    "\n",
    "\\begin{align}\n",
    "U &= \\frac{2u - v}{3},\\\\\n",
    "V &= \\frac{2v - u}{3},\\\\\n",
    "T &= -\\frac{u + v}{3},\\\\\n",
    "W &= w.\n",
    "\\end{align}\n",
    "\n",
    "For a plane, the $h$, $k$ and $l$ indices are the same in $(hkl)$ and $(hkil)$,\n",
    "and $i = -(h + k)$.\n",
    "\n",
    "The first three Miller indices always sum up to zero, i.e.\n",
    "\n",
    "\\begin{align}\n",
    "U + V + T &= 0,\\\\\n",
    "h + k + i &= 0.\n",
    "\\end{align}"
   ]
  },
  {
   "cell_type": "code",
   "execution_count": null,
   "id": "45aef11c",
   "metadata": {},
   "outputs": [],
   "source": [
    "trigonal = Phase(\n",
    "    point_group=\"321\",\n",
    "    structure=Structure(lattice=Lattice(4.9, 4.9, 5.4, 90, 90, 120))\n",
    ")\n",
    "trigonal"
   ]
  },
  {
   "cell_type": "code",
   "execution_count": null,
   "id": "e6ea2f0c",
   "metadata": {},
   "outputs": [],
   "source": [
    "m5 = Miller(UVTW=[2, 1, -3, 1], phase=trigonal)\n",
    "m5"
   ]
  },
  {
   "cell_type": "code",
   "execution_count": null,
   "id": "13a7a5a4",
   "metadata": {},
   "outputs": [],
   "source": [
    "m6 = Miller(hkil=[1, 1, -2, 3], phase=trigonal)\n",
    "m6"
   ]
  },
  {
   "cell_type": "code",
   "execution_count": null,
   "id": "7de69d3b",
   "metadata": {},
   "outputs": [],
   "source": [
    "fig = m5.scatter(return_figure=True, c=\"C0\", grid_resolution=(30, 30))\n",
    "m6.scatter(figure=fig, c=\"C1\")"
   ]
  },
  {
   "cell_type": "markdown",
   "id": "dcc743f5",
   "metadata": {},
   "source": [
    "One can change the coordinate format of the Miller class, however this does not\n",
    "change the vector, since all vectors are stored with respect to the cartesian\n",
    "coordinate system internally"
   ]
  },
  {
   "cell_type": "code",
   "execution_count": null,
   "id": "bfbfcd48",
   "metadata": {},
   "outputs": [],
   "source": [
    "print(m6, \"\\n\\n\", m6.data)"
   ]
  },
  {
   "cell_type": "code",
   "execution_count": null,
   "id": "4a8bd438",
   "metadata": {},
   "outputs": [],
   "source": [
    "m6.coordinate_format = \"UVTW\"\n",
    "print(m6, \"\\n\\n\", m6.data)"
   ]
  },
  {
   "cell_type": "markdown",
   "id": "901d3e3a",
   "metadata": {},
   "source": [
    "Getting the closest integer indices, however, changes the vector"
   ]
  },
  {
   "cell_type": "code",
   "execution_count": null,
   "id": "4f60c53b",
   "metadata": {},
   "outputs": [],
   "source": [
    "m6round = m6.round()\n",
    "print(m6round, \"\\n\\n\", m6round.data)"
   ]
  },
  {
   "cell_type": "markdown",
   "id": "028fe691",
   "metadata": {},
   "source": [
    "## Symmetrically equivalent directions and planes\n",
    "\n",
    "The point group symmetry elements of the crystal lattice can be applied to\n",
    "to describe symmetrically equivalent crystal directions and planes. This applies\n",
    "to crystals in all seven systems, but we'll use the cubic crystal as an example\n",
    "because of its high symmetry"
   ]
  },
  {
   "cell_type": "code",
   "execution_count": null,
   "id": "62524925",
   "metadata": {},
   "outputs": [],
   "source": [
    "cubic = Phase(point_group=\"m-3m\", structure=Structure())\n",
    "print(cubic, \"\\n\", cubic.structure.lattice.abcABG())"
   ]
  },
  {
   "cell_type": "markdown",
   "id": "62155942",
   "metadata": {},
   "source": [
    "The directions parallel to the crystal axes ($\\mathbf{a}$, $\\mathbf{b}$,\n",
    "$\\mathbf{c}$) given by $[100]$, $[\\bar{1}00]$, $[010]$, $[0\\bar{1}0]$,\n",
    "$[001]$, and $[00\\bar{1}]$ ($\\bar{1}$ means \"-1\") are symmetrically equivalent,\n",
    "and can be obtained using\n",
    "[Miller.symmetrise()](reference.rst#orix.vector.Miller.symmetrise)"
   ]
  },
  {
   "cell_type": "code",
   "execution_count": null,
   "id": "1c9fe5ed",
   "metadata": {},
   "outputs": [],
   "source": [
    "m7 = Miller(uvw=[1, 0, 0] , phase=cubic)\n",
    "m7.symmetrise(unique=True)"
   ]
  },
  {
   "cell_type": "markdown",
   "id": "4476a12a",
   "metadata": {},
   "source": [
    "Without passing `unique=True`, since the cubic crystal symmetry is described by\n",
    "48 symmetry operations (or elements), 48 directions would have been returned.\n",
    "\n",
    "These six directions, known as a family, may be expressed collectively as\n",
    "$\\left<100\\right>$, the brackets implying all six permutations or variants of\n",
    "1, 0, 0. This particular family is said to have a multiplicity of 6"
   ]
  },
  {
   "cell_type": "code",
   "execution_count": null,
   "id": "dee9be1e",
   "metadata": {},
   "outputs": [],
   "source": [
    "m7.multiplicity"
   ]
  },
  {
   "cell_type": "code",
   "execution_count": null,
   "id": "cfc9a422",
   "metadata": {},
   "outputs": [],
   "source": [
    "m8 = Miller(uvw=[[1, 0, 0], [1, 1, 0], [1, 1, 1]], phase=cubic)\n",
    "m8"
   ]
  },
  {
   "cell_type": "code",
   "execution_count": null,
   "id": "d172fbbb",
   "metadata": {},
   "outputs": [],
   "source": [
    "m8.multiplicity"
   ]
  },
  {
   "cell_type": "markdown",
   "id": "ade35e91",
   "metadata": {},
   "source": [
    "Let's plot the symmetrically equivalent directions from the direction families\n",
    "$\\left<100\\right>$, $\\left<110\\right>$, and $\\left<111\\right>$ impinging on the\n",
    "upper hemisphere. By also returning the indices of which family each\n",
    "symmetrically equivalent direction belongs to from `Miller.symmetrise()`, we can\n",
    "give a unique color per family"
   ]
  },
  {
   "cell_type": "code",
   "execution_count": null,
   "id": "75dea79e",
   "metadata": {},
   "outputs": [],
   "source": [
    "m9, idx = m8.symmetrise(unique=True, return_index=True)\n",
    "\n",
    "fig = m9[idx == 0].scatter(c=\"C0\", return_figure=True)\n",
    "for i in range(1, m9.size):\n",
    "    m9[idx == i].scatter(c=f\"C{i}\", figure=fig)"
   ]
  },
  {
   "cell_type": "markdown",
   "id": "7fdf92c3",
   "metadata": {},
   "source": [
    "Similarly, symmetrically equivalent planes $(hkl)$ can be collectively\n",
    "expressed as planes of the form $\\{hkl\\}$"
   ]
  },
  {
   "cell_type": "code",
   "execution_count": null,
   "id": "08a9822f",
   "metadata": {},
   "outputs": [],
   "source": [
    "m10 = Miller(hkl=[[1, 0, 0], [1, 1, 0], [1, 1, 1]], phase=cubic)\n",
    "m10.multiplicity"
   ]
  },
  {
   "cell_type": "code",
   "execution_count": null,
   "id": "178c1646",
   "metadata": {},
   "outputs": [],
   "source": [
    "fig = m10[0].symmetrise(unique=True).scatter(c=\"C0\", return_figure=True)\n",
    "for i in range(1, m10.size):\n",
    "    m10[i].symmetrise(unique=True).scatter(c=f\"C{i}\", figure=fig)"
   ]
  },
  {
   "cell_type": "markdown",
   "id": "d23acef8",
   "metadata": {},
   "source": [
    "We computed the angles between directions and plane normals earlier in this\n",
    "notebook. In general,\n",
    "[Miller.angle_with()](reference.rst#orix.vector.Miller.angle_with) does not\n",
    "consider symmetrically equivalent directions, unless `use_symmetry=True` is\n",
    "passed. Consider $(100)$ and $(\\bar{1}00)$ and $(111)$ and $(\\bar{1}11)$ in the stereographic\n",
    "plot above"
   ]
  },
  {
   "cell_type": "code",
   "execution_count": null,
   "id": "0e9e28e0",
   "metadata": {},
   "outputs": [],
   "source": [
    "m11 = Miller(hkl=[[1, 0, 0], [1, 1, 1]], phase=cubic)\n",
    "m12 = Miller(hkl=[[-1, 0, 0], [-1, 1, 1]], phase=cubic)"
   ]
  },
  {
   "cell_type": "code",
   "execution_count": null,
   "id": "a288f196",
   "metadata": {},
   "outputs": [],
   "source": [
    "np.rad2deg(m11.angle_with(m12).data)"
   ]
  },
  {
   "cell_type": "code",
   "execution_count": null,
   "id": "941518f4",
   "metadata": {},
   "outputs": [],
   "source": [
    "np.rad2deg(m11.angle_with(m12, use_symmetry=True).data)"
   ]
  },
  {
   "cell_type": "markdown",
   "id": "aad293fc",
   "metadata": {},
   "source": [
    "Thus, passing `use_symmetry=True` ensures that the smallest angles between\n",
    "`m11` and the symmetrically equivalent directions to `m12` are found.\n",
    "\n",
    "## Directions and planes in rotated crystals\n",
    "\n",
    "Let's consider the orientation of a cubic crystal which under a rotation of\n",
    "$45^{\\circ}$ about the sample $\\mathbf{Z}$ axis has its crystal reference frame\n",
    "coinsiding with the sample reference frame"
   ]
  },
  {
   "cell_type": "code",
   "execution_count": null,
   "id": "484ed317",
   "metadata": {},
   "outputs": [],
   "source": [
    "o = Orientation.from_euler(np.deg2rad([45, 0, 0]))\n",
    "o = o.set_symmetry(cubic.point_group)\n",
    "o"
   ]
  },
  {
   "cell_type": "markdown",
   "id": "0ba0bbcc",
   "metadata": {},
   "source": [
    "We can apply this orientation to a crystal direction $[uvw]$ to find this\n",
    "direction in this particular crystal with respect to the sample coordinate\n",
    "system"
   ]
  },
  {
   "cell_type": "code",
   "execution_count": null,
   "id": "26ed0395",
   "metadata": {},
   "outputs": [],
   "source": [
    "m12 = Miller(uvw=[1, 1, 1], phase=cubic)\n",
    "o * m12"
   ]
  },
  {
   "cell_type": "code",
   "execution_count": null,
   "id": "43ec5ccb",
   "metadata": {},
   "outputs": [],
   "source": [
    "fig = m12.scatter(c=\"r\", return_figure=True)\n",
    "(o * m12).scatter(figure=fig, c=\"b\")"
   ]
  },
  {
   "cell_type": "markdown",
   "id": "88b82df2",
   "metadata": {},
   "source": [
    "We can apply the crystal symmetry to obtain the coordinates with respect to the\n",
    "sample reference frame for all crystallographically equivalent directions"
   ]
  },
  {
   "cell_type": "code",
   "execution_count": null,
   "id": "80feeef0",
   "metadata": {},
   "outputs": [],
   "source": [
    "(o * m12.symmetrise(unique=True)).scatter()"
   ]
  },
  {
   "cell_type": "code",
   "execution_count": null,
   "id": "07df12f5",
   "metadata": {},
   "outputs": [],
   "source": [
    "o2 = Orientation.from_euler(np.deg2rad([10, 20, 30]))\n",
    "o2 = o2.set_symmetry(trigonal.point_group)\n",
    "o2"
   ]
  },
  {
   "cell_type": "code",
   "execution_count": null,
   "id": "45d14a6c",
   "metadata": {},
   "outputs": [],
   "source": [
    "m13 = Miller(hkil=[1, -1, 0, 0], phase=trigonal)\n",
    "m13"
   ]
  },
  {
   "cell_type": "code",
   "execution_count": null,
   "id": "3e822f9b",
   "metadata": {},
   "outputs": [],
   "source": [
    "p = o2 * m13.symmetrise(unique=True)\n",
    "p.scatter(\n",
    "    hemisphere=\"both\",\n",
    "    grid_resolution=(30, 30),\n",
    "    figure_kwargs=dict(figsize=(10, 5)),\n",
    "    axes_labels=[\"x\", \"y\", \"z\"],\n",
    ")"
   ]
  },
  {
   "cell_type": "markdown",
   "id": "79531a75",
   "metadata": {},
   "source": [
    "The stereographic plots above are essentially the $\\{1\\bar{1}00\\}$ pole figure\n",
    "representation of the orientation $O_2$."
   ]
  },
  {
   "cell_type": "markdown",
   "id": "08f63947",
   "metadata": {},
   "source": [
    "___"
   ]
  },
  {
   "cell_type": "markdown",
   "id": "47193eaa",
   "metadata": {},
   "source": [
    "## A diamond [111] pole figure\n",
    "\n",
    "Let's make a pole figure in the [111] direction of the diamond structure, as\n",
    "seen in\n",
    "[this figure from Wikipedia](https://commons.wikimedia.org/wiki/File:DiamondPoleFigure111.png).\n",
    "\n",
    "The figure caption reads as follows\n",
    "\n",
    "> *The spots in the stereographic projection show the orientation of lattice planes with the 111 in the center. Only poles for a non-forbidden Bragg reflection are shown between Miller indices -10 <= (h,k,l) <= 10. The green spots contain Miller indices up to 3, for example 111, 113, 133, 200 etc in its fundamental order. Red are those raising to 5, ex. 115, 135, 335 etc, while blue are all remaining until 10, such as 119, 779, 10.10.00 etc.*"
   ]
  },
  {
   "cell_type": "code",
   "execution_count": null,
   "id": "b966afc0",
   "metadata": {},
   "outputs": [],
   "source": [
    "diamond = Phase(space_group=227)\n",
    "md = Miller.from_highest_indices(phase=diamond, uvw=[10, 10, 10])\n",
    "md"
   ]
  },
  {
   "cell_type": "markdown",
   "id": "7dd2e6a4",
   "metadata": {},
   "source": [
    "Remove duplicates under symmetry using [Miller.unique()](reference.rst#orix.vector.Miller.unique)"
   ]
  },
  {
   "cell_type": "code",
   "execution_count": null,
   "id": "d30883cd",
   "metadata": {},
   "outputs": [],
   "source": [
    "md2 = md.unique(use_symmetry=True)\n",
    "md2"
   ]
  },
  {
   "cell_type": "markdown",
   "id": "e312919b",
   "metadata": {},
   "source": [
    "Symmetrise to get all symmetrically equivalent directions"
   ]
  },
  {
   "cell_type": "code",
   "execution_count": null,
   "id": "9d956c10",
   "metadata": {},
   "outputs": [],
   "source": [
    "md3 = md2.symmetrise(unique=True)\n",
    "md3"
   ]
  },
  {
   "cell_type": "markdown",
   "id": "f5834ec1",
   "metadata": {},
   "source": [
    "Remove forbidden reflections in face-centered cubic structures (all hkl must be\n",
    "all even or all odd)"
   ]
  },
  {
   "cell_type": "code",
   "execution_count": null,
   "id": "1e8f817f",
   "metadata": {},
   "outputs": [],
   "source": [
    "selection = np.sum(np.mod(md3.hkl, 2), axis=1)\n",
    "allowed = np.array([i not in [1, 2] for i in selection], dtype=bool)\n",
    "md4 = md3[allowed]\n",
    "md4"
   ]
  },
  {
   "cell_type": "markdown",
   "id": "8170fa24",
   "metadata": {},
   "source": [
    "Assign colors to each class of vectors as per the description on Wikipedia"
   ]
  },
  {
   "cell_type": "code",
   "execution_count": null,
   "id": "bd66c7a4",
   "metadata": {},
   "outputs": [],
   "source": [
    "uvw = np.abs(md4.uvw)\n",
    "green = np.all(uvw <= 3, axis=-1)\n",
    "red = np.any(uvw > 3, axis=-1) * np.all(uvw <= 5, axis=-1)\n",
    "blue = np.any(uvw > 5, axis=-1)\n",
    "rgb_mask = np.column_stack([red, green, blue])\n",
    "\n",
    "# Sanity check\n",
    "print(np.count_nonzero(rgb_mask) == md4.size)"
   ]
  },
  {
   "cell_type": "markdown",
   "id": "b61c3859",
   "metadata": {},
   "source": [
    "Rotate directions so that [111] impinges the unit sphere in the north pole\n",
    "(out of plane direction)"
   ]
  },
  {
   "cell_type": "code",
   "execution_count": null,
   "id": "87f3108a",
   "metadata": {},
   "outputs": [],
   "source": [
    "vz = Vector3d.zvector()\n",
    "v111 = Vector3d([1, 1, 1])\n",
    "r1 = Rotation.from_neo_euler(AxAngle.from_axes_angles(\n",
    "    v111.cross(vz), v111.angle_with(vz).data)\n",
    ")\n",
    "r2 = Rotation.from_neo_euler(AxAngle.from_axes_angles(vz, np.deg2rad(-15)))\n",
    "md5 = r2 * r1 * md4"
   ]
  },
  {
   "cell_type": "markdown",
   "id": "89547945",
   "metadata": {},
   "source": [
    "Restrict to upper hemisphere and remove duplicates"
   ]
  },
  {
   "cell_type": "code",
   "execution_count": null,
   "id": "6d900281",
   "metadata": {},
   "outputs": [],
   "source": [
    "is_upper = md5.z > 0\n",
    "md6 = md5[is_upper]\n",
    "rgb_mask2 = rgb_mask[is_upper]\n",
    "\n",
    "_, idx = md6.unit.unique(return_index=True)\n",
    "md7 = md6[idx]\n",
    "rgb_mask2 = rgb_mask2[idx]"
   ]
  },
  {
   "cell_type": "markdown",
   "id": "1c31b8b8",
   "metadata": {},
   "source": [
    "Finally, plot the vectors"
   ]
  },
  {
   "cell_type": "code",
   "execution_count": null,
   "id": "c6dc13bc",
   "metadata": {
    "tags": [
     "nbsphinx-thumbnail"
    ]
   },
   "outputs": [],
   "source": [
    "rgb = np.zeros_like(md7.uvw)\n",
    "rgb[rgb_mask2] = 1\n",
    "\n",
    "md7.scatter(c=rgb, s=10, grid=False, figure_kwargs=dict(figsize=(12, 12)))"
   ]
  }
 ],
 "metadata": {
  "kernelspec": {
   "display_name": "Python 3",
   "language": "python",
   "name": "python3"
  },
  "language_info": {
   "codemirror_mode": {
    "name": "ipython",
    "version": 3
   },
   "file_extension": ".py",
   "mimetype": "text/x-python",
   "name": "python",
   "nbconvert_exporter": "python",
   "pygments_lexer": "ipython3",
   "version": "3.8.6"
  }
 },
 "nbformat": 4,
 "nbformat_minor": 5
}
