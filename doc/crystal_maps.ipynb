{
 "cells": [
  {
   "cell_type": "markdown",
   "id": "48879910",
   "metadata": {
    "nbsphinx": "hidden"
   },
   "source": [
    "This notebook is part of the *orix* documentation https://orix.rtfd.io. Links to the documentation won’t work from the notebook."
   ]
  },
  {
   "cell_type": "markdown",
   "id": "b3e0bae5",
   "metadata": {},
   "source": [
    "# Crystal maps\n",
    "\n",
    "This notebook details how to load and save crystallographic mapping data in\n",
    "orix, as well as analysing and visualising the data. All interactions with this\n",
    "type of data is done with the\n",
    "[orix.crystal_map.CrystalMap](reference.rst#orix.crystal_map.CrystalMap) class.\n",
    "\n",
    "Orientations and other properties acquired from a super-duplex stainless steel\n",
    "EBSD data set with two phases, austenite and ferrite, are used as example data.\n",
    "The data is available here: http://folk.ntnu.no/hakonwii/files/orix-demos/,\n",
    "courtesy of Prof. Jarle Hjelen (Norwegian University of Science and Technology,\n",
    "Norway)."
   ]
  },
  {
   "cell_type": "code",
   "execution_count": null,
   "id": "8f1e7cd0",
   "metadata": {},
   "outputs": [],
   "source": [
    "%matplotlib qt5\n",
    "\n",
    "from diffpy.structure import Atom, Lattice, Structure\n",
    "import numpy as np\n",
    "\n",
    "from orix import crystal_map, io, quaternion"
   ]
  },
  {
   "cell_type": "markdown",
   "id": "1a9dfe70",
   "metadata": {},
   "source": [
    "# Load, create and save\n",
    "\n",
    "A CrystalMap instance can be obtained by reading an orientation data set stored\n",
    "in a format supported by orix using the load function, or by passing the\n",
    "necessary arrays to the `CrystalMap.__init__()` method. Two file formats are\n",
    "supported, in addition to orix's own HDF5 format: Data in the .ang format\n",
    "produced by the softwares EDAX TSL OIM Data Collection v7, NanoMegas ASTAR\n",
    "Index, and EMsoft v4/v5 via the `EMdpmerge` program, and data in EMsoft v4/v5\n",
    "HDF5 files produced by the `EMEBSDDI` program.\n",
    "\n",
    "Two writers are supported, namely orix's own HDF5 format, readable by orix only,\n",
    "and the .ang format, readable at least by MTEX and EDAX TSL OIM Analysis v7.\n",
    "\n",
    "## Load or create\n",
    "\n",
    "Let's load a crystal map from an .ang file produced by EMsoft and inspect it"
   ]
  },
  {
   "cell_type": "code",
   "execution_count": null,
   "id": "2b540a3e",
   "metadata": {},
   "outputs": [],
   "source": [
    "datadir = \"/home/hakon/phd/data/jarle_emsoft/sdss/em/\"\n",
    "fname = \"sdss_ferrite_austenite.ang\"\n",
    "\n",
    "xmap = io.load(datadir + fname)\n",
    "print(xmap)\n",
    "xmap.plot(overlay=\"dp\")  # Dot product values added to the alpha (RGBA) channel"
   ]
  },
  {
   "cell_type": "markdown",
   "id": "354da649",
   "metadata": {},
   "source": [
    "The indexing properties returned by EMsoft in their .ang files are the pattern\n",
    "image quality (iq) (according to Niels Krieger Lassen's method), and the highest\n",
    "normalized dot product (dp) between the experimental and best matching simulated\n",
    "pattern.\n",
    "\n",
    "The same `CrystalMap` object can be obtained by reading each array from the .ang\n",
    "file ourselves and passing this to `CrystalMap.__init__()`"
   ]
  },
  {
   "cell_type": "code",
   "execution_count": null,
   "id": "0e9d3823",
   "metadata": {},
   "outputs": [],
   "source": [
    "# Read each column from the file\n",
    "euler1, euler2, euler3, x, y, iq, dp, phase_id = np.loadtxt(\n",
    "    datadir + fname, unpack=True\n",
    ")\n",
    "\n",
    "# Create a Rotation object from Euler angles\n",
    "euler_angles = np.column_stack((euler1, euler2, euler3))\n",
    "rotations = quaternion.Rotation.from_euler(euler_angles)\n",
    "\n",
    "# Create a property dictionary\n",
    "properties = dict(iq=iq, dp=dp)\n",
    "\n",
    "# Create unit cells of the phases\n",
    "structures = [\n",
    "    Structure(\n",
    "        title=\"austenite\",\n",
    "        atoms=[Atom(\"fe\", [0] * 3)],\n",
    "        lattice=Lattice(0.360, 0.360, 0.360, 90, 90, 90)\n",
    "    ),\n",
    "    Structure(\n",
    "        title=\"ferrite\",\n",
    "        atoms=[Atom(\"fe\", [0] * 3)],\n",
    "        lattice=Lattice(0.287, 0.287, 0.287, 90, 90, 90)\n",
    "    ),\n",
    "]\n",
    "phase_list = crystal_map.PhaseList(\n",
    "    names=[\"austenite\", \"ferrite\"],\n",
    "    point_groups=[\"432\", \"432\"],\n",
    "    structures=structures,\n",
    ")\n",
    "\n",
    "# Create a CrystalMap instance\n",
    "xmap2 = crystal_map.CrystalMap(\n",
    "    rotations=rotations,\n",
    "    phase_id=phase_id,\n",
    "    x=x,\n",
    "    y=y,\n",
    "    phase_list=phase_list,\n",
    "    prop=properties,\n",
    ")\n",
    "xmap2.scan_unit = \"um\"\n",
    "\n",
    "xmap2"
   ]
  },
  {
   "cell_type": "markdown",
   "id": "1e6a639b",
   "metadata": {},
   "source": [
    "## Save\n",
    "\n",
    "### orix HDF5 format\n",
    "\n",
    "As mentioned, the two writers implemented are orix's own HDF5 format and the\n",
    ".ang format"
   ]
  },
  {
   "cell_type": "code",
   "execution_count": null,
   "id": "119cf43a",
   "metadata": {},
   "outputs": [],
   "source": [
    "io.save(\n",
    "    filename=datadir + \"sdss_ferrite_austenite2.h5\",\n",
    "    object2write=xmap,\n",
    "    overwrite=True,  # Default is False\n",
    ")"
   ]
  },
  {
   "cell_type": "markdown",
   "id": "760cbce8",
   "metadata": {},
   "source": [
    "Read the file contents back into a `CrystalMap` object using\n",
    "[orix.io.load()](reference.rst#orix._io.load) function.\n",
    "\n",
    "All contents in this file can be inspected using any HDF5 viewer and read back\n",
    "into Python using the h5py library (which we use).\n",
    "\n",
    "### .ang format\n",
    "\n",
    "The .ang writer supports many use cases. Some of these are demonstrated here,\n",
    "by reloading the saved crystal maps.\n",
    "\n",
    "First, let's write the multi phase map to an .ang file, specifying that the\n",
    "`xmap.dp` property should be written to the confidence index (CI) column"
   ]
  },
  {
   "cell_type": "code",
   "execution_count": null,
   "id": "6e1f1b79",
   "metadata": {},
   "outputs": [],
   "source": [
    "fname_ang1 = \"sdss_dp_ci.ang\"\n",
    "io.save(\n",
    "    filename=datadir + fname_ang1,\n",
    "    object2write=xmap,\n",
    "    confidence_index_prop=\"dp\"\n",
    ")\n",
    "\n",
    "xmap_reload1 = io.load(datadir + fname_ang1)\n",
    "print(xmap_reload1)\n",
    "print(xmap_reload1.prop)"
   ]
  },
  {
   "cell_type": "markdown",
   "id": "d97410a0",
   "metadata": {},
   "source": [
    "Note that points not in data are set to `not_indexed` when reloaded from the\n",
    ".ang file, and that all properties in points not in the data set are set to\n",
    "zero, except for the CI column where this property in points not in the data\n",
    "(the austenite points) are set to -1, which MTEX and EDAX TSL expects in these\n",
    "points.\n",
    "\n",
    "Finally, it is worth mentioning that if a map has more than one rotation/match\n",
    "and phase ID per point, the index parameter can be passed to write any \"layer\"\n",
    "of the data to file."
   ]
  },
  {
   "cell_type": "markdown",
   "id": "dbb8a27e",
   "metadata": {},
   "source": [
    "## Modify crystal phases\n",
    "\n",
    "The phases are stored in a `PhaseList` object in the `CrystalMap.phases` attribute"
   ]
  },
  {
   "cell_type": "code",
   "execution_count": null,
   "id": "585a464e",
   "metadata": {},
   "outputs": [],
   "source": [
    "xmap.phases"
   ]
  },
  {
   "cell_type": "markdown",
   "id": "ca0824a3",
   "metadata": {},
   "source": [
    "### Symmetry"
   ]
  },
  {
   "cell_type": "markdown",
   "id": "2ece5a97",
   "metadata": {},
   "source": [
    "The point group symmetry are stored in the vendor and EMsoft files, however they\n",
    "provide no space group symmetry. We can set this *per phase* by providing a\n",
    "space group number (1-230) according to the International Tables of\n",
    "Crystallography (useful link: http://img.chem.ucl.ac.uk/sgp/large/sgp.htm)"
   ]
  },
  {
   "cell_type": "code",
   "execution_count": null,
   "id": "4d7b8c27",
   "metadata": {},
   "outputs": [],
   "source": [
    "xmap.phases[1].space_group = 225\n",
    "xmap.phases[2].space_group = 229\n",
    "\n",
    "xmap.phases"
   ]
  },
  {
   "cell_type": "markdown",
   "id": "964bfb82",
   "metadata": {},
   "source": [
    "Note that this also changed the point group, because this is always determined\n",
    "from the space group. But the proper point group, without any inversion or\n",
    "mirror planes, stayed the same. The `space_group` attribute stores a\n",
    "`diffpy.structure.spacegroups.SpaceGroup` object (https://www.diffpy.org/diffpy.structure/mod_spacegroup.html#diffpy.structure.spacegroupmod.SpaceGroup).\n",
    "\n",
    "We can get the point group which a space group is the subgroup of"
   ]
  },
  {
   "cell_type": "code",
   "execution_count": null,
   "id": "c3791feb",
   "metadata": {
    "tags": []
   },
   "outputs": [],
   "source": [
    "print(get_point_group(200).name, get_point_group(230).name)"
   ]
  },
  {
   "cell_type": "markdown",
   "id": "00ca5864",
   "metadata": {},
   "source": [
    "The point group stores symmetry operations as quaternions. We can get them as\n",
    "orientation matrices"
   ]
  },
  {
   "cell_type": "code",
   "execution_count": null,
   "id": "0c55678f",
   "metadata": {},
   "outputs": [],
   "source": [
    "xmap.phases[1].point_group[:2]"
   ]
  },
  {
   "cell_type": "code",
   "execution_count": null,
   "id": "664cbf03",
   "metadata": {},
   "outputs": [],
   "source": [
    "xmap.phases[1].point_group[:2].to_matrix()"
   ]
  },
  {
   "cell_type": "markdown",
   "id": "5d324243",
   "metadata": {},
   "source": [
    "`diffpy.structure` stores rotation symmetry operations as orientation matrices\n",
    "and translations as 1D arrays"
   ]
  },
  {
   "cell_type": "code",
   "execution_count": null,
   "id": "e7acaa55",
   "metadata": {},
   "outputs": [],
   "source": [
    "[(i.R, i.t) for i in xmap.phases[1].space_group.symop_list[:2]]"
   ]
  },
  {
   "cell_type": "markdown",
   "id": "0168a24c",
   "metadata": {},
   "source": [
    "We can get the quaternion representation of these matrices"
   ]
  },
  {
   "cell_type": "code",
   "execution_count": null,
   "id": "c2e9fab5",
   "metadata": {},
   "outputs": [],
   "source": [
    "[Rotation.from_matrix(i.R) for i in xmap.phases[1].space_group.symop_list[:2]]"
   ]
  },
  {
   "cell_type": "markdown",
   "id": "8c4a46cc",
   "metadata": {},
   "source": [
    "### Index phase list"
   ]
  },
  {
   "cell_type": "markdown",
   "id": "605e1de2",
   "metadata": {},
   "source": [
    "The phase list can be indexed by phase ID or name"
   ]
  },
  {
   "cell_type": "code",
   "execution_count": null,
   "id": "3a9ee1d3",
   "metadata": {},
   "outputs": [],
   "source": [
    "xmap.phases[1]"
   ]
  },
  {
   "cell_type": "code",
   "execution_count": null,
   "id": "5bcde7ad",
   "metadata": {},
   "outputs": [],
   "source": [
    "xmap.phases[\"austenite\"]"
   ]
  },
  {
   "cell_type": "code",
   "execution_count": null,
   "id": "c3513049",
   "metadata": {},
   "outputs": [],
   "source": [
    "xmap.phases[1:]"
   ]
  },
  {
   "cell_type": "code",
   "execution_count": null,
   "id": "a6b50a19",
   "metadata": {},
   "outputs": [],
   "source": [
    "xmap.phases[\"austenite\", \"ferrite\"]"
   ]
  },
  {
   "cell_type": "markdown",
   "id": "fef7c8da",
   "metadata": {},
   "source": [
    "When asking for a single phase, either by an integer or a single string, a\n",
    "`Phase` object was returned. In the other cases, a `PhaseList` object was\n",
    "returned"
   ]
  },
  {
   "cell_type": "code",
   "execution_count": null,
   "id": "3cbdbfa8",
   "metadata": {
    "tags": []
   },
   "outputs": [],
   "source": [
    "print(type(xmap.phases[1]), type(xmap.phases[1:]))"
   ]
  },
  {
   "cell_type": "code",
   "execution_count": null,
   "id": "ec654200",
   "metadata": {},
   "outputs": [],
   "source": [
    "Valid point group names to use when setting the point group symmetry are"
   ]
  },
  {
   "cell_type": "code",
   "execution_count": null,
   "id": "6bf8c6e6",
   "metadata": {},
   "outputs": [],
   "source": [
    "from orix.quaternion.symmetry import _groups\n",
    "\n",
    "[point_group.name for point_group in _groups]"
   ]
  },
  {
   "cell_type": "code",
   "execution_count": null,
   "id": "adaf0629",
   "metadata": {},
   "outputs": [],
   "source": [
    "# NBVAL_IGNORE_OUTPUT\n",
    "xmap.phases[\"Austenite\"].point_group = \"-43m\"\n",
    "\n",
    "xmap.phases"
   ]
  },
  {
   "cell_type": "markdown",
   "id": "499e5628",
   "metadata": {},
   "source": [
    "Note that the `space_group` was set to `None` since space group Fm-3m is not a\n",
    "subgroup of -43m.\n",
    "\n",
    "Let's revert to the correct space group (and the name, for convenience)"
   ]
  },
  {
   "cell_type": "code",
   "execution_count": null,
   "id": "a25fedca",
   "metadata": {},
   "outputs": [],
   "source": [
    "xmap.phases[\"Austenite\"].name = \"austenite\"\n",
    "xmap.phases[\"austenite\"].space_group = 225\n",
    "\n",
    "xmap.phases"
   ]
  },
  {
   "cell_type": "markdown",
   "id": "8d17758f",
   "metadata": {},
   "source": [
    "We can add a phase by giving its name and point group symmetry"
   ]
  },
  {
   "cell_type": "code",
   "execution_count": null,
   "id": "c0ef19d9",
   "metadata": {},
   "outputs": [],
   "source": [
    "xmap.phases.add(Phase(\"sigma\", point_group=\"4/mmm\"))\n",
    "\n",
    "xmap.phases"
   ]
  },
  {
   "cell_type": "markdown",
   "id": "5a71ccd6",
   "metadata": {},
   "source": [
    "When adding a phase to the phase list like this, the phases' structure contains no atoms and the default lattice parameters are used"
   ]
  },
  {
   "cell_type": "code",
   "execution_count": null,
   "id": "b43405a3",
   "metadata": {},
   "outputs": [],
   "source": [
    "xmap.phases[\"sigma\"].structure.lattice.abcABG()"
   ]
  },
  {
   "cell_type": "markdown",
   "id": "34e7cafb",
   "metadata": {},
   "source": [
    "So let's set this"
   ]
  },
  {
   "cell_type": "code",
   "execution_count": null,
   "id": "9a60772e",
   "metadata": {
    "tags": []
   },
   "outputs": [],
   "source": [
    "xmap.phases[\"sigma\"].structure.lattice = Lattice(0.880, 0.880, 0.880, 90, 90, 90)\n",
    "print(xmap.phases[\"sigma\"].structure.lattice)"
   ]
  },
  {
   "cell_type": "markdown",
   "id": "03135ea7",
   "metadata": {},
   "source": [
    "If some data points are considered as not indexed, a \"not_indexed\" phase can be\n",
    "added to the phase list to keep track of these points"
   ]
  },
  {
   "cell_type": "code",
   "execution_count": null,
   "id": "b27af5c6",
   "metadata": {},
   "outputs": [],
   "source": [
    "xmap.phases.add_not_indexed()\n",
    "\n",
    "xmap.phases"
   ]
  },
  {
   "cell_type": "markdown",
   "id": "8ab94d7e",
   "metadata": {},
   "source": [
    "No points in this data set are considered not indexed. A phase list with only\n",
    "the phases in the data is stored in the `phases_in_data` attribute"
   ]
  },
  {
   "cell_type": "code",
   "execution_count": null,
   "id": "f1d9aebb",
   "metadata": {},
   "outputs": [],
   "source": [
    "xmap.phases_in_data"
   ]
  },
  {
   "cell_type": "markdown",
   "id": "5d950d83",
   "metadata": {},
   "source": [
    "We can of course remove a phase from the phase list, either by its name or phase ID"
   ]
  },
  {
   "cell_type": "code",
   "execution_count": null,
   "id": "e8e4a860",
   "metadata": {},
   "outputs": [],
   "source": [
    "del xmap.phases[\"sigma\"]\n",
    "del xmap.phases[-1]\n",
    "\n",
    "xmap.phases"
   ]
  },
  {
   "cell_type": "markdown",
   "id": "66280417",
   "metadata": {},
   "source": [
    "### Properties"
   ]
  },
  {
   "cell_type": "markdown",
   "id": "0757d30c",
   "metadata": {},
   "source": [
    "The phase name, space group, point group, proper point group, color and\n",
    "structure can be accessed for the full phase list or a single phase"
   ]
  },
  {
   "cell_type": "code",
   "execution_count": null,
   "id": "f88d96e1",
   "metadata": {
    "tags": []
   },
   "outputs": [],
   "source": [
    "print(xmap.phases.names)\n",
    "print([i.short_name for i in xmap.phases.space_groups])\n",
    "print([i.name for i in xmap.phases.point_groups])\n",
    "print([i.proper_subgroup.name for i in xmap.phases.point_groups])\n",
    "print(xmap.phases.colors)\n",
    "print(xmap.phases.structures)"
   ]
  },
  {
   "cell_type": "markdown",
   "id": "6455171d",
   "metadata": {},
   "source": [
    "Note that the structures' representations are empty lists since no atoms have been added to them yet."
   ]
  },
  {
   "cell_type": "code",
   "execution_count": null,
   "id": "93dc3baf",
   "metadata": {
    "tags": []
   },
   "outputs": [],
   "source": [
    "xmap.phases[\"austenite\"]\n",
    "print(xmap.phases[\"austenite\"].name)\n",
    "print(xmap.phases[\"austenite\"].space_group.short_name)\n",
    "print(xmap.phases[\"austenite\"].point_group.name)\n",
    "print(xmap.phases[\"austenite\"].point_group.proper_subgroup.name)\n",
    "print(xmap.phases[\"austenite\"].color)\n",
    "print(xmap.phases[\"austenite\"].structure)"
   ]
  },
  {
   "cell_type": "markdown",
   "id": "6a9915b8",
   "metadata": {},
   "source": [
    "These attributes (not the phase ID) can be set *per phase*"
   ]
  },
  {
   "cell_type": "code",
   "execution_count": null,
   "id": "250c0f34",
   "metadata": {
    "tags": []
   },
   "outputs": [],
   "source": [
    "xmap.phases[\"austenite\"].name = \"Austenite\"\n",
    "\n",
    "xmap.phases[\"Austenite\"].structure = Structure(\n",
    "    lattice=Lattice(0.36, 0.36, 0.36, 90, 90, 90)\n",
    ")\n",
    "print(xmap.phases[\"Austenite\"].structure)\n",
    "\n",
    "xmap.phases[\"Austenite\"].color = \"lime\"  # Sets RGB tuple (0, 1, 0)\n",
    "print(xmap.phases[\"Austenite\"].color_rgb)\n",
    "\n",
    "xmap.phases"
   ]
  },
  {
   "cell_type": "markdown",
   "id": "181fe2c1",
   "metadata": {},
   "source": [
    "Valid color strings can be found here: https://matplotlib.org/3.1.0/tutorials/colors/colors.html\n",
    "\n",
    "### Create phase list\n",
    "\n",
    "We can create a phase list by calling `PhaseList.__init__()`"
   ]
  },
  {
   "cell_type": "code",
   "execution_count": null,
   "id": "8c12d153",
   "metadata": {},
   "outputs": [],
   "source": [
    "PhaseList(\n",
    "    names=['al', 'cu'],\n",
    "    space_groups=[225, 225],\n",
    "    colors=['lime', 'xkcd:violet'],\n",
    "    ids=[0, 1],\n",
    "    structures=[\n",
    "        Structure(\n",
    "            atoms=[Atom(\"al\", [0] * 3)],\n",
    "            lattice=Lattice(0.405, 0.405, 0.405, 90, 90, 90)\n",
    "        ),\n",
    "        Structure(\n",
    "            atoms=[Atom(\"cu\", [0] * 3)],\n",
    "            lattice=Lattice(0.361, 0.361, 0.361, 90, 90, 90)\n",
    "        )\n",
    "    ]\n",
    ")"
   ]
  },
  {
   "cell_type": "markdown",
   "id": "aad2f7fa",
   "metadata": {},
   "source": [
    "or by creating `Phase` objects and passing these to the first argument in\n",
    "`PhaseList.__init__()` as a list (or single `Phase` objects)"
   ]
  },
  {
   "cell_type": "code",
   "execution_count": null,
   "id": "5dc7d775",
   "metadata": {},
   "outputs": [],
   "source": [
    "al = Phase(name='al', space_group=225, color=\"C0\")\n",
    "cu = Phase(\n",
    "    color=\"C1\",\n",
    "    structure=Structure(\n",
    "        title=\"cu\",\n",
    "        lattice=Lattice(0.361, 0.361, 0.361, 90, 90, 90)\n",
    "    )\n",
    ")\n",
    "\n",
    "PhaseList([al, cu])"
   ]
  },
  {
   "cell_type": "markdown",
   "id": "50f50b7a",
   "metadata": {},
   "source": [
    "Note that the Cu phase name was retrieved from the `Structure` object.\n",
    "\n",
    "### Copying\n",
    "\n",
    "If we want a shallow copy of the phase list"
   ]
  },
  {
   "cell_type": "code",
   "execution_count": null,
   "id": "a32db74e",
   "metadata": {},
   "outputs": [],
   "source": [
    "pl = xmap.phases\n",
    "pl[\"ferrite\"].color = \"red\"\n",
    "\n",
    "xmap.phases"
   ]
  },
  {
   "cell_type": "markdown",
   "id": "49be6be5",
   "metadata": {},
   "source": [
    "If we want a deep copy of the phase list"
   ]
  },
  {
   "cell_type": "code",
   "execution_count": null,
   "id": "e9c874a7",
   "metadata": {
    "tags": []
   },
   "outputs": [],
   "source": [
    "pl = xmap.phases.deepcopy()\n",
    "pl.add(Phase(\"chi\", point_group=\"-43m\"))\n",
    "print(pl, \"\\n\")\n",
    "\n",
    "print(xmap.phases)"
   ]
  },
  {
   "cell_type": "markdown",
   "id": "ed355d21",
   "metadata": {},
   "source": [
    "## Inspect orientation data\n",
    "\n",
    "Orientations are stored as rotations in a `Rotation` object"
   ]
  },
  {
   "cell_type": "code",
   "execution_count": null,
   "id": "d2494835",
   "metadata": {},
   "outputs": [],
   "source": [
    "xmap.rotations"
   ]
  },
  {
   "cell_type": "markdown",
   "id": "b3305c52",
   "metadata": {},
   "source": [
    "Orientations *per phase* can be obtained by applying the phase point group\n",
    "symmetry"
   ]
  },
  {
   "cell_type": "code",
   "execution_count": null,
   "id": "2fbc9396",
   "metadata": {},
   "outputs": [],
   "source": [
    "o_austenite = xmap[\"austenite\"].orientations\n",
    "\n",
    "o_austenite"
   ]
  },
  {
   "cell_type": "markdown",
   "id": "591af272",
   "metadata": {},
   "source": [
    "The above is equivalent to"
   ]
  },
  {
   "cell_type": "code",
   "execution_count": null,
   "id": "a74902ed",
   "metadata": {},
   "outputs": [],
   "source": [
    "Orientation(xmap[\"austenite\"].rotations).set_symmetry(\n",
    "    xmap[\"austenite\"].phases[1].point_group\n",
    ")"
   ]
  },
  {
   "cell_type": "markdown",
   "id": "4c417d35",
   "metadata": {},
   "source": [
    "Orientation angles and axes are readily available"
   ]
  },
  {
   "cell_type": "code",
   "execution_count": null,
   "id": "79946e91",
   "metadata": {},
   "outputs": [],
   "source": [
    "o_austenite.angle"
   ]
  },
  {
   "cell_type": "code",
   "execution_count": null,
   "id": "a55badec",
   "metadata": {},
   "outputs": [],
   "source": [
    "# Obtain as a numpy.ndarray\n",
    "o_austenite.angle.data"
   ]
  },
  {
   "cell_type": "code",
   "execution_count": null,
   "id": "d8c813da",
   "metadata": {},
   "outputs": [],
   "source": [
    "o_austenite.axis.data"
   ]
  },
  {
   "cell_type": "markdown",
   "id": "4e392132",
   "metadata": {},
   "source": [
    "## Inspect, add and delete map properties\n",
    "\n",
    "Map properties are stored in the `CrystalMap.prop` attribute dictionary"
   ]
  },
  {
   "cell_type": "code",
   "execution_count": null,
   "id": "93ac3045",
   "metadata": {},
   "outputs": [],
   "source": [
    "xmap.prop"
   ]
  },
  {
   "cell_type": "markdown",
   "id": "120a42a4",
   "metadata": {},
   "source": [
    "All properties in this dictionary are also available directly from the `CrystalMap` as attributes"
   ]
  },
  {
   "cell_type": "code",
   "execution_count": null,
   "id": "08865345",
   "metadata": {},
   "outputs": [],
   "source": [
    "xmap.iq"
   ]
  },
  {
   "cell_type": "code",
   "execution_count": null,
   "id": "2d3fbf98",
   "metadata": {},
   "outputs": [],
   "source": [
    "xmap.dp"
   ]
  },
  {
   "cell_type": "markdown",
   "id": "c5cb28b6",
   "metadata": {},
   "source": [
    "We can add a map property by specifying its name and an initial value in each map point"
   ]
  },
  {
   "cell_type": "code",
   "execution_count": null,
   "id": "1e7f88a1",
   "metadata": {},
   "outputs": [],
   "source": [
    "xmap.prop[\"grain_boundary\"] = 0\n",
    "\n",
    "xmap.grain_boundary"
   ]
  },
  {
   "cell_type": "code",
   "execution_count": null,
   "id": "b556c3df",
   "metadata": {},
   "outputs": [],
   "source": [
    "xmap.prop[\"grain_boundary2\"] = np.arange(xmap.size, dtype=int)\n",
    "\n",
    "xmap.grain_boundary2"
   ]
  },
  {
   "cell_type": "markdown",
   "id": "df1a6b8a",
   "metadata": {},
   "source": [
    "We can also delete a property from the `prop` dictionary"
   ]
  },
  {
   "cell_type": "code",
   "execution_count": null,
   "id": "74ab9e0d",
   "metadata": {},
   "outputs": [],
   "source": [
    "del xmap.prop[\"grain_boundary2\"]\n",
    "\n",
    "xmap.prop"
   ]
  },
  {
   "cell_type": "markdown",
   "id": "f1935956",
   "metadata": {},
   "source": [
    "## Select and modify data based upon criteria\n",
    "\n",
    "We can select data in a crystal map in three ways:\n",
    "1. by phase name or \"indexed\"/\"not_indexed\"\n",
    "2. by a slice\n",
    "3. by a boolean array\n",
    "\n",
    "Getting all data belonging to one phase"
   ]
  },
  {
   "cell_type": "code",
   "execution_count": null,
   "id": "91be8720",
   "metadata": {},
   "outputs": [],
   "source": [
    "xmap[\"austenite\"]"
   ]
  },
  {
   "cell_type": "markdown",
   "id": "b688ed1e",
   "metadata": {},
   "source": [
    "or two phases"
   ]
  },
  {
   "cell_type": "code",
   "execution_count": null,
   "id": "4dab3088",
   "metadata": {},
   "outputs": [],
   "source": [
    "xmap[\"austenite\", \"ferrite\"]"
   ]
  },
  {
   "cell_type": "markdown",
   "id": "6443007c",
   "metadata": {},
   "source": [
    "or all indexed points"
   ]
  },
  {
   "cell_type": "code",
   "execution_count": null,
   "id": "6c6922bf",
   "metadata": {},
   "outputs": [],
   "source": [
    "xmap[\"indexed\"]"
   ]
  },
  {
   "cell_type": "markdown",
   "id": "9d519b13",
   "metadata": {},
   "source": [
    "or all non-indexed points"
   ]
  },
  {
   "cell_type": "code",
   "execution_count": null,
   "id": "f501c987",
   "metadata": {},
   "outputs": [],
   "source": [
    "xmap[\"not_indexed\"]"
   ]
  },
  {
   "cell_type": "markdown",
   "id": "b0b5ea02",
   "metadata": {},
   "source": [
    "When slicing a crystal map, it is important to know the data size and shape"
   ]
  },
  {
   "cell_type": "code",
   "execution_count": null,
   "id": "15236dca",
   "metadata": {},
   "outputs": [],
   "source": [
    "xmap.size"
   ]
  },
  {
   "cell_type": "code",
   "execution_count": null,
   "id": "9aeab8e6",
   "metadata": {},
   "outputs": [],
   "source": [
    "xmap.shape"
   ]
  },
  {
   "cell_type": "markdown",
   "id": "406f4775",
   "metadata": {},
   "source": [
    "So, to get the data within a rectangle"
   ]
  },
  {
   "cell_type": "code",
   "execution_count": null,
   "id": "e77c3aa5",
   "metadata": {},
   "outputs": [],
   "source": [
    "xmap[20:50, 40:90]"
   ]
  },
  {
   "cell_type": "markdown",
   "id": "a7b56f87",
   "metadata": {},
   "source": [
    "The most powerful way to select data is by requiring a certain criteria"
   ]
  },
  {
   "cell_type": "code",
   "execution_count": null,
   "id": "fa8712c0",
   "metadata": {
    "tags": []
   },
   "outputs": [],
   "source": [
    "dp_mean = xmap.dp.mean()\n",
    "print(dp_mean)\n",
    "\n",
    "xmap_high_dp = xmap[xmap.dp > dp_mean]\n",
    "print(xmap_high_dp.dp.min())"
   ]
  },
  {
   "cell_type": "markdown",
   "id": "fbfdfb15",
   "metadata": {},
   "source": [
    "Note that when selecting a subset of the data, a shallow copy (view) of the\n",
    "crystal map is obtained. This means that whatever changes made to `xmap_high_dp`\n",
    "also change `xmap`. When we want a deep copy, we use the `CrystalMap.deepcopy()`\n",
    "method"
   ]
  },
  {
   "cell_type": "code",
   "execution_count": null,
   "id": "f2424776",
   "metadata": {},
   "outputs": [],
   "source": [
    "xmap_nobody_owns_me = xmap[xmap.dp > dp_mean].deepcopy()"
   ]
  },
  {
   "cell_type": "markdown",
   "id": "42bdebbf",
   "metadata": {},
   "source": [
    "We can chain the criteria"
   ]
  },
  {
   "cell_type": "code",
   "execution_count": null,
   "id": "f349760d",
   "metadata": {},
   "outputs": [],
   "source": [
    "xmap[(xmap.dp > 0.81) & (xmap.phase_id == 1)]"
   ]
  },
  {
   "cell_type": "markdown",
   "id": "4880c262",
   "metadata": {},
   "source": [
    "## Plotting\n",
    "\n",
    "All map plotting is done via a `matplotlib` \"projection\" named \"plot_map\". To plot a phase map"
   ]
  },
  {
   "cell_type": "code",
   "execution_count": null,
   "id": "011deff9",
   "metadata": {},
   "outputs": [],
   "source": [
    "fig, ax = plt.subplots(subplot_kw=dict(projection=\"plot_map\"))\n",
    "im = ax.plot_map(xmap)"
   ]
  },
  {
   "cell_type": "markdown",
   "id": "cd1fc6e6",
   "metadata": {},
   "source": [
    "Hover over figure points to display the (x,y) position and orientations in that point!\n",
    "\n",
    "Note that `plot_map()` wraps `matplotlib.axes.Axes.imshow`. All key word arguments in `plot_map()` are passed to `imshow()`, so be sure to check [its documentation](https://matplotlib.org/api/_as_gen/matplotlib.axes.Axes.imshow.html?highlight=imshow#matplotlib.axes.Axes.imshow) out for any additional arguments.\n",
    "\n",
    "We can add any overlay, from any property with a value in each map point, to the map"
   ]
  },
  {
   "cell_type": "code",
   "execution_count": null,
   "id": "97843d97",
   "metadata": {},
   "outputs": [],
   "source": [
    "ax.add_overlay(xmap, xmap.dp)"
   ]
  },
  {
   "cell_type": "markdown",
   "id": "313b16dd",
   "metadata": {},
   "source": [
    "To save our phase map with the scalebar and legend, but without white padding"
   ]
  },
  {
   "cell_type": "code",
   "execution_count": null,
   "id": "7c647fd4",
   "metadata": {},
   "outputs": [],
   "source": [
    "ax.remove_padding()\n",
    "fig.savefig(\n",
    "    datadir + 'phase_map.png',\n",
    "    bbox_inches=\"tight\",\n",
    "    pad_inches=0,\n",
    ")"
   ]
  },
  {
   "cell_type": "markdown",
   "id": "410229cc",
   "metadata": {},
   "source": [
    "To save phase map without scalebar, legend and white padding, and one image pixel per map point"
   ]
  },
  {
   "cell_type": "code",
   "execution_count": null,
   "id": "8e88a126",
   "metadata": {},
   "outputs": [],
   "source": [
    "plt.imsave(\n",
    "    datadir + 'phase_no_fluff.png',\n",
    "    arr=im.get_array()  # 2D NumPy array, possibly with an RGB tuple in each element\n",
    ")"
   ]
  },
  {
   "cell_type": "markdown",
   "id": "ed572463",
   "metadata": {},
   "source": [
    "We can plot any property with a value in each map point"
   ]
  },
  {
   "cell_type": "code",
   "execution_count": null,
   "id": "82fc8a12",
   "metadata": {},
   "outputs": [],
   "source": [
    "fig, ax = plt.subplots(subplot_kw=dict(projection=\"plot_map\"))\n",
    "im = ax.plot_map(xmap, xmap.dp, cmap=\"inferno\")"
   ]
  },
  {
   "cell_type": "markdown",
   "id": "50446cf6",
   "metadata": {},
   "source": [
    "And change the colormap later if we want to"
   ]
  },
  {
   "cell_type": "code",
   "execution_count": null,
   "id": "10c99107",
   "metadata": {},
   "outputs": [],
   "source": [
    "im.set_cmap(\"viridis\")"
   ]
  },
  {
   "cell_type": "markdown",
   "id": "1836e13a",
   "metadata": {},
   "source": [
    "And add a colorbar if we want"
   ]
  },
  {
   "cell_type": "code",
   "execution_count": null,
   "id": "761c694c",
   "metadata": {},
   "outputs": [],
   "source": [
    "cbar = ax.add_colorbar(label=\"Dottproduct\")"
   ]
  },
  {
   "cell_type": "markdown",
   "id": "9c0faf81",
   "metadata": {},
   "source": [
    "Which we can update if we mispelled the label or want other adjustements"
   ]
  },
  {
   "cell_type": "code",
   "execution_count": null,
   "id": "ee8604c6",
   "metadata": {},
   "outputs": [],
   "source": [
    "cbar.ax.set_ylabel(\"Dot product\", rotation=270);"
   ]
  },
  {
   "cell_type": "markdown",
   "id": "0f0d72ba",
   "metadata": {},
   "source": [
    "We can also plot orientation related values, like axis and angles etc., and restrict the color bar maximum"
   ]
  },
  {
   "cell_type": "code",
   "execution_count": null,
   "id": "dabbff0d",
   "metadata": {},
   "outputs": [],
   "source": [
    "# Get rotation angles in degrees\n",
    "angles = xmap.rotations.angle.data * 180 / np.pi\n",
    "\n",
    "fig, ax = plt.subplots(subplot_kw=dict(projection=\"plot_map\"))\n",
    "im = ax.plot_map(xmap, angles, vmax=angles.max() - 10)\n",
    "\n",
    "ax.add_overlay(xmap, xmap.iq)\n",
    "\n",
    "ax.add_colorbar(label=\"Rotation angle\");"
   ]
  },
  {
   "cell_type": "markdown",
   "id": "4443529d",
   "metadata": {},
   "source": [
    "To plot only one phase, while passing custom\n",
    "* scalebar properties (https://matplotlib.org/mpl_toolkits/axes_grid/api/anchored_artists_api.html#mpl_toolkits.axes_grid1.anchored_artists.AnchoredSizeBar)\n",
    "* legend properties (https://matplotlib.org/3.3.0/api/_as_gen/matplotlib.pyplot.legend.html)"
   ]
  },
  {
   "cell_type": "code",
   "execution_count": null,
   "id": "a47eb54d",
   "metadata": {},
   "outputs": [],
   "source": [
    "fig, ax = plt.subplots(subplot_kw=dict(projection=\"plot_map\"))\n",
    "im = ax.plot_map(\n",
    "    xmap[\"austenite\"],\n",
    "    scalebar=True,  # False for removed\n",
    "    scalebar_properties={\n",
    "        \"loc\": 4,  # 1: upper right, 2: upper left, etc. counter-clockwise\n",
    "        \"frameon\": False,\n",
    "        \"sep\": 6,  # Vertical spacing between bar and text\n",
    "        \"size_vertical\": 0.2,  # Bar height\n",
    "    },\n",
    "    legend_properties={\n",
    "        \"framealpha\": 1,  # 0: fully transparent, 1: opaque\n",
    "        \"handlelength\": 1.5,  # Colored square width\n",
    "        \"handletextpad\": 0.1,  # Horizontal space between square and text\n",
    "        \"borderpad\": 0.1,\n",
    "    },\n",
    ")"
   ]
  },
  {
   "cell_type": "markdown",
   "id": "68163543",
   "metadata": {},
   "source": [
    "Plot only a rectangle of the map"
   ]
  },
  {
   "cell_type": "code",
   "execution_count": null,
   "id": "18b24e04",
   "metadata": {},
   "outputs": [],
   "source": [
    "xmap2 = xmap[20:50, 40:90]\n",
    "\n",
    "fig, ax = plt.subplots(subplot_kw=dict(projection=\"plot_map\"))\n",
    "ax.plot_map(xmap2)\n",
    "ax.add_overlay(xmap2, xmap2.dp)"
   ]
  },
  {
   "cell_type": "markdown",
   "id": "b74afe67",
   "metadata": {},
   "source": [
    "Plot only parts of a map based on chained conditionals, like belonging to one phase or having a property value above a threshold"
   ]
  },
  {
   "cell_type": "code",
   "execution_count": null,
   "id": "6730731a",
   "metadata": {},
   "outputs": [],
   "source": [
    "# Conditional slicing\n",
    "xmap2 = xmap[xmap.dp > 0.81]\n",
    "\n",
    "fig, ax = plt.subplots(subplot_kw=dict(projection=\"plot_map\"))\n",
    "ax.plot_map(xmap2, xmap2.iq, cmap=\"gray\")\n",
    "ax.add_colorbar(\"Image quality\")\n",
    "\n",
    "# Chained conditional slicing\n",
    "xmap2 = xmap[(xmap.dp > 0.81) & (xmap.phase_id == 1)]\n",
    "\n",
    "fig, ax = plt.subplots(subplot_kw=dict(projection=\"plot_map\"))\n",
    "ax.plot_map(xmap2, xmap2.dp, cmap=\"cividis\")\n",
    "ax.add_colorbar(\"Dot product\");"
   ]
  },
  {
   "cell_type": "markdown",
   "id": "b0d668fd",
   "metadata": {},
   "source": [
    "Plot histogram of a property per phase"
   ]
  },
  {
   "cell_type": "code",
   "execution_count": null,
   "id": "de64ba2e",
   "metadata": {},
   "outputs": [],
   "source": [
    "# Property of interest\n",
    "this_prop = 'dp'\n",
    "\n",
    "# Plot phase map again to see color changes\n",
    "fig, ax = plt.subplots(subplot_kw=dict(projection=\"plot_map\"))\n",
    "ax.plot_map(xmap)\n",
    "\n",
    "# Add overlay, passing str (can also pass numpy.ndarray)\n",
    "ax.add_overlay(xmap, this_prop)\n",
    "\n",
    "# Remove figure padding\n",
    "ax.remove_padding()\n",
    "\n",
    "# Declare lists for plotting\n",
    "data = []\n",
    "labels = []\n",
    "colors = []\n",
    "\n",
    "# Get property values, name and color per phase\n",
    "for _, p in xmap.phases_in_data:\n",
    "    labels.append(p.name)\n",
    "    colors.append(p.color)\n",
    "\n",
    "    # Accessing the property dictionary directly\n",
    "    data.append(xmap[p.name].prop[this_prop])\n",
    "    # or indirectly\n",
    "    #data.append(xmap[p.name].dp)\n",
    "\n",
    "# Nice bar plot with property histogram per phase\n",
    "fig, ax = plt.subplots()\n",
    "ax.hist(\n",
    "    data,\n",
    "    bins=20,\n",
    "    histtype='bar',\n",
    "    density=True,\n",
    "    label=labels,\n",
    "    color=colors\n",
    ")\n",
    "ax.set_xlabel(this_prop)\n",
    "ax.set_ylabel(\"Frequency\")\n",
    "ax.legend();"
   ]
  }
 ],
 "metadata": {
  "kernelspec": {
   "display_name": "Python 3",
   "language": "python",
   "name": "python3"
  },
  "language_info": {
   "codemirror_mode": {
    "name": "ipython",
    "version": 3
   },
   "file_extension": ".py",
   "mimetype": "text/x-python",
   "name": "python",
   "nbconvert_exporter": "python",
   "pygments_lexer": "ipython3",
   "version": "3.8.6"
  }
 },
 "nbformat": 4,
 "nbformat_minor": 5
}
