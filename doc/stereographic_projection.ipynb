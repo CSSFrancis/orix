{
 "cells": [
  {
   "cell_type": "markdown",
   "id": "dirty-initial",
   "metadata": {
    "nbsphinx": "hidden"
   },
   "source": [
    "This notebook is part of the *orix* documentation https://orix.rtfd.io. Links to the documentation won’t work from the notebook."
   ]
  },
  {
   "cell_type": "markdown",
   "id": "accomplished-holder",
   "metadata": {},
   "source": [
    "# Stereographic projection"
   ]
  },
  {
   "cell_type": "code",
   "execution_count": null,
   "id": "handled-niagara",
   "metadata": {},
   "outputs": [],
   "source": [
    "# Exchange \"inline\" for:\n",
    "# \"qt5\" for interactive plotting from the pyqt package\n",
    "# \"notebook\" for inline interactive plotting when running on Binder\n",
    "%matplotlib inline\n",
    "\n",
    "import matplotlib.pyplot as plt\n",
    "\n",
    "from orix import vector, plot"
   ]
  },
  {
   "cell_type": "code",
   "execution_count": null,
   "id": "under-front",
   "metadata": {},
   "outputs": [],
   "source": [
    "v = vector.Vector3d([[1, 1, 2], [1, 1, -2]])"
   ]
  },
  {
   "cell_type": "code",
   "execution_count": null,
   "id": "personalized-denmark",
   "metadata": {
    "tags": [
     "nbsphinx-thumbnail"
    ]
   },
   "outputs": [],
   "source": [
    "fig, ax = plt.subplots(figsize=(5, 5), subplot_kw=dict(projection=\"stereographic\"))\n",
    "ax.scatter(v, c=[\"blue\", \"orange\"], pole=-1)\n",
    "ax.set_title(\"upper\")\n",
    "_ = ax.axis(\"off\")"
   ]
  },
  {
   "cell_type": "code",
   "execution_count": null,
   "id": "continental-booth",
   "metadata": {},
   "outputs": [],
   "source": [
    "fig, ax = plt.subplots(figsize=(5, 5), subplot_kw=dict(projection=\"stereographic\"))\n",
    "ax.scatter(v, c=[\"blue\", \"orange\"], pole=1)\n",
    "ax.set_title(\"lower\")\n",
    "_ = ax.axis(\"off\")"
   ]
  }
 ],
 "metadata": {
  "kernelspec": {
   "display_name": "Python 3",
   "language": "python",
   "name": "python3"
  },
  "language_info": {
   "codemirror_mode": {
    "name": "ipython",
    "version": 3
   },
   "file_extension": ".py",
   "mimetype": "text/x-python",
   "name": "python",
   "nbconvert_exporter": "python",
   "pygments_lexer": "ipython3",
   "version": "3.8.6"
  }
 },
 "nbformat": 4,
 "nbformat_minor": 5
}
