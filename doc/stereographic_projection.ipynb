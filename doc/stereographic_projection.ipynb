{
 "cells": [
  {
   "cell_type": "markdown",
   "id": "australian-athletics",
   "metadata": {
    "nbsphinx": "hidden"
   },
   "source": [
    "This notebook is part of the *orix* documentation https://orix.rtfd.io. Links to the documentation won’t work from the notebook."
   ]
  },
  {
   "cell_type": "markdown",
   "id": "needed-groove",
   "metadata": {},
   "source": [
    "# Stereographic projection"
   ]
  },
  {
   "cell_type": "code",
   "execution_count": null,
   "id": "floppy-transparency",
   "metadata": {},
   "outputs": [],
   "source": [
    "# Exchange \"inline\" for:\n",
    "# \"qt5\" for interactive plotting from the pyqt package\n",
    "# \"notebook\" for inline interactive plotting when running on Binder\n",
    "%matplotlib inline\n",
    "\n",
    "import matplotlib.pyplot as plt\n",
    "from orix import vector, plot\n",
    "\n",
    "\n",
    "# We'll want our plots to look a bit larger than the default size\n",
    "new_params = {\n",
    "    \"figure.figsize\": (10, 10),\n",
    "    \"lines.markersize\": 10,\n",
    "    \"font.size\": 15,\n",
    "    \"axes.grid\": False,\n",
    "}\n",
    "plt.rcParams.update(new_params)"
   ]
  },
  {
   "cell_type": "markdown",
   "id": "broken-reducing",
   "metadata": {},
   "source": [
    "## Plot vectors"
   ]
  },
  {
   "cell_type": "markdown",
   "id": "isolated-czech",
   "metadata": {},
   "source": [
    "Default style"
   ]
  },
  {
   "cell_type": "code",
   "execution_count": null,
   "id": "written-camcorder",
   "metadata": {},
   "outputs": [],
   "source": [
    "v1 = vector.Vector3d([[0, 0, 1], [1, 0, 1], [1, 1, 1]])\n",
    "fig, ax = plt.subplots(subplot_kw=dict(projection=\"stereographic\"))\n",
    "ax.scatter(v1)"
   ]
  },
  {
   "cell_type": "markdown",
   "id": "exceptional-friendly",
   "metadata": {},
   "source": [
    "Hover the cursor over the equatorial plane to see the spherical coordinates when\n",
    "plotting interactively."
   ]
  },
  {
   "cell_type": "code",
   "execution_count": null,
   "id": "correct-being",
   "metadata": {},
   "outputs": [],
   "source": [
    "plt.rcParams[\"axes.grid\"] = True"
   ]
  },
  {
   "cell_type": "markdown",
   "id": "difficult-archives",
   "metadata": {},
   "source": [
    "### Upper and lower hemisphere\n",
    "\n",
    "The axes' hemisphere *must* be set before calling `axes.scatter()`."
   ]
  },
  {
   "cell_type": "code",
   "execution_count": null,
   "id": "related-combat",
   "metadata": {},
   "outputs": [],
   "source": [
    "v2 = vector.Vector3d([[1, 1, 2], [1, 1, -2]])\n",
    "\n",
    "fig, ax = plt.subplots(ncols=2, subplot_kw=dict(projection=\"stereographic\"))\n",
    "\n",
    "ax[0].scatter(v2, c=\"C0\")\n",
    "ax[0].show_hemisphere_label()\n",
    "ax[0].set_labels()\n",
    "\n",
    "ax[1].hemisphere = \"lower\"  # /\"south\", or \"upper\"/\"north\"\n",
    "ax[1].scatter(v2, c=\"C1\")\n",
    "ax[1].show_hemisphere_label()\n",
    "ax[1].set_labels(\"RD\", \"TD\", \"ND\")"
   ]
  },
  {
   "cell_type": "markdown",
   "id": "excited-hawaii",
   "metadata": {},
   "source": [
    "### Control grid\n",
    "\n",
    "Set polar and azimuth grid resolution, upon initialization or after the plot\n",
    "was created"
   ]
  },
  {
   "cell_type": "code",
   "execution_count": null,
   "id": "honest-instrumentation",
   "metadata": {},
   "outputs": [],
   "source": [
    "subplot_kw = dict(\n",
    "    projection=\"stereographic\", polar_resolution=15, azimuth_resolution=30\n",
    ")\n",
    "fig, ax = plt.subplots(ncols=2, subplot_kw=subplot_kw)\n",
    "\n",
    "ax[0].scatter(v1)\n",
    "\n",
    "v3 = vector.Vector3d([[0, 0, -1], [-1, 0, -1], [-1, -1, -1]])\n",
    "ax[1].hemisphere = \"south\"\n",
    "ax[1].show_hemisphere_label()\n",
    "ax[1].scatter(v3)\n",
    "ax[1].polar_grid(30)\n",
    "ax[1].azimuth_grid(45)"
   ]
  },
  {
   "cell_type": "markdown",
   "id": "maritime-occasion",
   "metadata": {},
   "source": [
    "### Annotate vectors"
   ]
  },
  {
   "cell_type": "code",
   "execution_count": null,
   "id": "falling-reservoir",
   "metadata": {},
   "outputs": [],
   "source": [
    "fig, ax = plt.subplots(ncols=2, subplot_kw=dict(projection=\"stereographic\"))\n",
    "\n",
    "ax[0].scatter(v1)\n",
    "ax[0].show_hemisphere_label()\n",
    "for vi in v1:\n",
    "    ax[0].text(vi, s=vi._nice_string_repr())\n",
    "\n",
    "v3 = vector.Vector3d([[0, 0, -1], [-1, 0, -1], [-1, -1, -1]])\n",
    "ax[1].hemisphere = \"lower\"\n",
    "ax[1].scatter(v3)\n",
    "ax[1].show_hemisphere_label()\n",
    "for vi in v3[:2]:\n",
    "    ax[1].text(vi, s=vi._nice_string_repr(\"()\"))\n",
    "for vi in v3[2:]:\n",
    "    ax[1].text(vi, s=vi._nice_string_repr(\"  \"))"
   ]
  },
  {
   "cell_type": "markdown",
   "id": "appointed-metro",
   "metadata": {},
   "source": [
    "### Pass spherical coordinates\n",
    "\n",
    "Instead of vectors"
   ]
  },
  {
   "cell_type": "code",
   "execution_count": null,
   "id": "upset-liverpool",
   "metadata": {
    "tags": [
     "nbsphinx-thumbnail"
    ]
   },
   "outputs": [],
   "source": [
    "fig, ax = plt.subplots(\n",
    "    figsize=(5, 5), subplot_kw=dict(projection=\"stereographic\")\n",
    ")\n",
    "azimuth = v1.phi\n",
    "polar = v1.theta\n",
    "ax.scatter(azimuth, polar)\n",
    "ax.set_labels(\"RD\", \"TD\", None)\n",
    "\n",
    "print(azimuth, polar)"
   ]
  },
  {
   "cell_type": "markdown",
   "id": "conventional-conservative",
   "metadata": {},
   "source": [
    "## Experimental functionality\n",
    "\n",
    "Plot symmetry elements of point groups with proper rotations only"
   ]
  },
  {
   "cell_type": "code",
   "execution_count": null,
   "id": "located-fireplace",
   "metadata": {},
   "outputs": [],
   "source": [
    "marker_size = 500\n",
    "fig, ax = plt.subplots(\n",
    "    figsize=(10, 10), ncols=2, subplot_kw=dict(projection=\"stereographic\")\n",
    ")\n",
    "\n",
    "ax[0].grid(False)\n",
    "ax[0].set_title(\"432\", pad=20)\n",
    "# 4-fold (outer markers will be clipped a bit...)\n",
    "v4fold = vector.Vector3d(\n",
    "    [[0, 0, 1], [1, 0, 0], [-1, 0, 0], [0, 1, 0], [0, -1, 0]]\n",
    ")\n",
    "ax[0].symmetry_marker(v4fold, fold=4, c=\"C4\", s=marker_size)\n",
    "# 3-fold\n",
    "v3fold = vector.Vector3d([[1, 1, 1], [1, -1, 1], [-1, -1, 1], [-1, 1, 1]])\n",
    "ax[0].symmetry_marker(v3fold, fold=3, c=\"C3\", s=marker_size)\n",
    "# 2-fold\n",
    "v2fold = vector.Vector3d([\n",
    "    [1, 0, 1],\n",
    "    [0, 1, 1],\n",
    "    [-1, 0, 1],\n",
    "    [0, -1, 1],\n",
    "    [1, 1, 0],\n",
    "    [-1, -1, 0],\n",
    "    [-1, 1, 0],\n",
    "    [1, -1, 0],\n",
    "])\n",
    "ax[0].symmetry_marker(v2fold, fold=2, c=\"C2\", s=marker_size)\n",
    "\n",
    "ax[1].grid(False)\n",
    "ax[1].set_title(\"222\", pad=20)\n",
    "# 2-fold\n",
    "v2fold = vector.Vector3d([\n",
    "    [0, 0, 1], [1, 0, 0], [-1, 0, 0], [0, 1, 0], [0, -1, 0]\n",
    "])\n",
    "ax[1].symmetry_marker(v2fold, fold=2, c=\"C2\", s=800)"
   ]
  }
 ],
 "metadata": {
  "kernelspec": {
   "display_name": "Python 3",
   "language": "python",
   "name": "python3"
  },
  "language_info": {
   "codemirror_mode": {
    "name": "ipython",
    "version": 3
   },
   "file_extension": ".py",
   "mimetype": "text/x-python",
   "name": "python",
   "nbconvert_exporter": "python",
   "pygments_lexer": "ipython3",
   "version": "3.8.6"
  }
 },
 "nbformat": 4,
 "nbformat_minor": 5
}
