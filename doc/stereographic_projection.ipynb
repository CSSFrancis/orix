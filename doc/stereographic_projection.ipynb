{
 "cells": [
  {
   "cell_type": "markdown",
   "id": "double-sculpture",
   "metadata": {
    "nbsphinx": "hidden"
   },
   "source": [
    "This notebook is part of the *orix* documentation https://orix.rtfd.io. Links to the documentation won’t work from the notebook."
   ]
  },
  {
   "cell_type": "markdown",
   "id": "opened-entity",
   "metadata": {},
   "source": [
    "# Stereographic projection\n",
    "\n",
    "The stereographic projection maps a sphere onto a plane, and preserves angles at\n",
    "which curves meet. In orix, the projection is used to project unit\n",
    "[Vector3d](reference.rst#orix.vector.Vector3d) objects onto the equatorial plane\n",
    "represented in spherical coordinates, notably the azimuth angle $\\phi$, in the\n",
    "range $[0^{\\circ}, 360^{\\circ}]$, and the polar angle $\\theta$, in the range\n",
    "$[0^{\\circ}, 90^{\\circ}]$ on the upper hemisphere and\n",
    "$[90^{\\circ}, 180^{\\circ}]$ on the lower hemisphere. The projection is\n",
    "implemented in\n",
    "[StereographicProjection](reference.rst#orix.projections.StereographicProjection),\n",
    "together with the\n",
    "[InverseStereographicProjection](reference.rst#orix.projections.InverseStereographicProjection).\n",
    "These are used in the\n",
    "[StereographicPlot](reference.rst#orix.plot.StereographicPlot), which extends\n",
    "Matplotlib's projections framework for plotting of `Vector3d` objects.\n",
    "\n",
    "This user guide shows how to plot vectors in the stereographic projection, and\n",
    "how to customize the stereographic plots."
   ]
  },
  {
   "cell_type": "code",
   "execution_count": null,
   "id": "married-career",
   "metadata": {},
   "outputs": [],
   "source": [
    "# Exchange \"inline\" for:\n",
    "# \"qt5\" for interactive plotting from the pyqt package\n",
    "# \"notebook\" for inline interactive plotting when running on Binder\n",
    "%matplotlib inline\n",
    "\n",
    "import numpy as np\n",
    "import matplotlib.pyplot as plt\n",
    "from orix import vector, plot\n",
    "\n",
    "\n",
    "# We'll want our plots to look a bit larger than the default size\n",
    "new_params = {\n",
    "    \"figure.figsize\": (10, 10),\n",
    "    \"lines.markersize\": 10,\n",
    "    \"font.size\": 15,\n",
    "    \"axes.grid\": False,\n",
    "}\n",
    "plt.rcParams.update(new_params)"
   ]
  },
  {
   "cell_type": "markdown",
   "id": "atlantic-strip",
   "metadata": {},
   "source": [
    "## Plot vectors"
   ]
  },
  {
   "cell_type": "markdown",
   "id": "creative-secretariat",
   "metadata": {},
   "source": [
    "Plotting three vectors with\n",
    "[StereographicPlot.scatter()](reference.rst#orix.plot.StereographicPlot.scatter)\n",
    "without customizing the plot"
   ]
  },
  {
   "cell_type": "code",
   "execution_count": null,
   "id": "behavioral-dublin",
   "metadata": {},
   "outputs": [],
   "source": [
    "v1 = vector.Vector3d([[0, 0, 1], [1, 0, 1], [1, 1, 1]])\n",
    "fig, ax = plt.subplots(subplot_kw=dict(projection=\"stereographic\"))\n",
    "ax.scatter(v1)"
   ]
  },
  {
   "cell_type": "markdown",
   "id": "fitted-solomon",
   "metadata": {},
   "source": [
    "Hover the cursor over the equatorial plane to see the spherical coordinates when\n",
    "plotting interactively.\n",
    "\n",
    "Let's turn on the azimuth and polar grid by updating the Matplotlib preferences."
   ]
  },
  {
   "cell_type": "code",
   "execution_count": null,
   "id": "early-customer",
   "metadata": {},
   "outputs": [],
   "source": [
    "plt.rcParams[\"axes.grid\"] = True"
   ]
  },
  {
   "cell_type": "markdown",
   "id": "placed-pizza",
   "metadata": {},
   "source": [
    "### Upper and lower hemisphere\n",
    "\n",
    "We can plot vectors impinging on the upper hemisphere or the lower hemisphere\n",
    "by setting the\n",
    "[StereographicPlot.hemisphere](reference.rst#orix.plot.StereographicPlot.hemisphere)\n",
    "attribute. Remember to set the hemisphere before calling `scatter()`."
   ]
  },
  {
   "cell_type": "code",
   "execution_count": null,
   "id": "welsh-knowing",
   "metadata": {},
   "outputs": [],
   "source": [
    "v2 = vector.Vector3d([[1, 1, 2], [1, 1, -2]])\n",
    "\n",
    "fig, ax = plt.subplots(ncols=2, subplot_kw=dict(projection=\"stereographic\"))\n",
    "\n",
    "ax[0].scatter(v2, c=\"C0\")  # blue\n",
    "ax[0].show_hemisphere_label(color=\"C0\")  # Pass keyword arguments to text()\n",
    "ax[0].set_labels()\n",
    "\n",
    "ax[1].hemisphere = \"lower\"  # /\"south\", or \"upper\"/\"north\"\n",
    "ax[1].scatter(v2, c=\"C1\")  # orange\n",
    "ax[1].show_hemisphere_label()\n",
    "ax[1].set_labels(\"RD\", \"TD\", \"ND\", size=20)  # Pass keyword arguments to text()"
   ]
  },
  {
   "cell_type": "markdown",
   "id": "signal-chest",
   "metadata": {},
   "source": [
    "Here,\n",
    "[StereographicPlot.show_hemisphere_label()](reference.rst#orix.plot.StereographicPlot.show_hemisphere_label)\n",
    "and\n",
    "[StereographicPlot.set_labels()](reference.rst#orix.plot.StereographicPlot.set_labels)\n",
    "was also used. Labels can only be plotted once, i.e. they cannot be changed after\n",
    "they are first plotted."
   ]
  },
  {
   "cell_type": "markdown",
   "id": "immune-ivory",
   "metadata": {},
   "source": [
    "### Control grid\n",
    "\n",
    "The polar and azimuth grid resolution can be set either upon axis initialization\n",
    "or after the axis is created using\n",
    "[StereographicPlot.polar_grid()](reference.rst#orix.plot.StereographicPlot.polar_grid)\n",
    "and\n",
    "[StereographicPlot.azimuth_grid()](reference.rst#orix.plot.StereographicPlot.azimuth_grid).\n",
    "The default grid resolution is $10^{\\circ}$ for both grids, but these can be\n",
    "changed separately"
   ]
  },
  {
   "cell_type": "code",
   "execution_count": null,
   "id": "single-interpretation",
   "metadata": {},
   "outputs": [],
   "source": [
    "subplot_kw = dict(\n",
    "    projection=\"stereographic\", polar_resolution=10, azimuth_resolution=10\n",
    ")\n",
    "fig, ax = plt.subplots(ncols=2, subplot_kw=subplot_kw)\n",
    "\n",
    "ax[0].scatter(v1)\n",
    "\n",
    "v3 = vector.Vector3d([[0, 0, -1], [-1, 0, -1], [-1, -1, -1]])\n",
    "ax[1].hemisphere = \"lower\"\n",
    "ax[1].show_hemisphere_label()\n",
    "ax[1].scatter(v3)\n",
    "ax[1].polar_grid(15)\n",
    "ax[1].azimuth_grid(30)"
   ]
  },
  {
   "cell_type": "markdown",
   "id": "utility-soldier",
   "metadata": {},
   "source": [
    "### Annotate vectors\n",
    "\n",
    "Vectors can be annotated by looping over them and adding text markers using\n",
    "[StereographicPlot.text()](reference.rst#orix.plot.StereographicPlot.text)"
   ]
  },
  {
   "cell_type": "code",
   "execution_count": null,
   "id": "arbitrary-protection",
   "metadata": {},
   "outputs": [],
   "source": [
    "fig, ax = plt.subplots(ncols=2, subplot_kw=dict(projection=\"stereographic\"))\n",
    "\n",
    "format_vector = lambda v: str(v.data[0]).replace(\" \", \"\")\n",
    "\n",
    "ax[0].scatter(v1)\n",
    "ax[0].show_hemisphere_label()\n",
    "for vi in v1:\n",
    "    ax[0].text(vi, s=format_vector(vi))\n",
    "    \n",
    "v3 = vector.Vector3d([[0, 0, -1], [-1, 0, -1], [-1, -1, -1]])\n",
    "ax[1].hemisphere = \"lower\"\n",
    "ax[1].scatter(v3)\n",
    "ax[1].show_hemisphere_label()\n",
    "for vi in v3[:2]:\n",
    "    ax[1].text(vi, s=format_vector(vi))\n",
    "for vi in v3[2:]:\n",
    "    ax[1].text(vi, s=format_vector(vi))"
   ]
  },
  {
   "cell_type": "markdown",
   "id": "compact-afghanistan",
   "metadata": {},
   "source": [
    "### Pass spherical coordinates\n",
    "\n",
    "We can also pass azimuth and polar angles instead of passing vectors"
   ]
  },
  {
   "cell_type": "code",
   "execution_count": null,
   "id": "inside-twins",
   "metadata": {
    "tags": [
     "nbsphinx-thumbnail"
    ]
   },
   "outputs": [],
   "source": [
    "fig, ax = plt.subplots(\n",
    "    figsize=(5, 5), subplot_kw=dict(projection=\"stereographic\")\n",
    ")\n",
    "azimuth = np.deg2rad([0, 60, 180])\n",
    "polar = np.deg2rad([0, 60, 60])\n",
    "ax.scatter(azimuth, polar, c=[\"C0\", \"C1\", \"C2\"], s=200)\n",
    "ax.set_labels(\"RD\", \"TD\", None)"
   ]
  },
  {
   "cell_type": "markdown",
   "id": "honest-hughes",
   "metadata": {},
   "source": [
    "Here, we also passed `None` to\n",
    "[StereographicPlot.set_labels()](reference.rst#orix.plot.StereographicPlot.set_labels)\n",
    "so that the Z axis label is not shown."
   ]
  },
  {
   "cell_type": "markdown",
   "id": "operational-rates",
   "metadata": {},
   "source": [
    "## Experimental functionality\n",
    "\n",
    "Plot symmetry elements of point groups with proper rotations only, using\n",
    "[StereographicPlot.symmetry_marker()](reference.rst#orix.plot.StereographicPlot.symmetry_marker)"
   ]
  },
  {
   "cell_type": "code",
   "execution_count": null,
   "id": "tight-novelty",
   "metadata": {},
   "outputs": [],
   "source": [
    "fig, ax = plt.subplots(ncols=2, subplot_kw=dict(projection=\"stereographic\"))\n",
    "\n",
    "marker_size = 500\n",
    "ax[0].grid(False)\n",
    "ax[0].set_title(\"432\", pad=20)\n",
    "# 4-fold (outer markers will be clipped a bit...)\n",
    "v4fold = vector.Vector3d(\n",
    "    [[0, 0, 1], [1, 0, 0], [-1, 0, 0], [0, 1, 0], [0, -1, 0]]\n",
    ")\n",
    "ax[0].symmetry_marker(v4fold, fold=4, c=\"C4\", s=marker_size)\n",
    "ax[0].circle(v4fold, c=\"C4\")\n",
    "# 3-fold\n",
    "v3fold = vector.Vector3d([[1, 1, 1], [1, -1, 1], [-1, -1, 1], [-1, 1, 1]])\n",
    "ax[0].symmetry_marker(v3fold, fold=3, c=\"C3\", s=marker_size)\n",
    "ax[0].circle(v3fold, c=\"C3\")\n",
    "# 2-fold\n",
    "v2fold = vector.Vector3d([\n",
    "    [1, 0, 1],\n",
    "    [0, 1, 1],\n",
    "    [-1, 0, 1],\n",
    "    [0, -1, 1],\n",
    "    [1, 1, 0],\n",
    "    [-1, -1, 0],\n",
    "    [-1, 1, 0],\n",
    "    [1, -1, 0],\n",
    "])\n",
    "ax[0].symmetry_marker(v2fold, fold=2, c=\"C2\", s=marker_size)\n",
    "ax[0].circle(v2fold, c=\"C2\")\n",
    "\n",
    "ax[1].grid(False)\n",
    "ax[1].set_title(\"222\", pad=20)\n",
    "# 2-fold\n",
    "v2fold = vector.Vector3d([\n",
    "    [0, 0, 1], [1, 0, 0], [-1, 0, 0], [0, 1, 0], [0, -1, 0]\n",
    "])\n",
    "ax[1].symmetry_marker(v2fold, fold=2, c=\"C2\", s=800)\n",
    "ax[1].circle(v2fold, c=\"C2\")"
   ]
  }
 ],
 "metadata": {
  "kernelspec": {
   "display_name": "Python 3",
   "language": "python",
   "name": "python3"
  },
  "language_info": {
   "codemirror_mode": {
    "name": "ipython",
    "version": 3
   },
   "file_extension": ".py",
   "mimetype": "text/x-python",
   "name": "python",
   "nbconvert_exporter": "python",
   "pygments_lexer": "ipython3",
   "version": "3.8.6"
  }
 },
 "nbformat": 4,
 "nbformat_minor": 5
}
