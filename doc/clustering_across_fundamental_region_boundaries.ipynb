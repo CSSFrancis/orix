{
 "cells": [
  {
   "cell_type": "markdown",
   "metadata": {
    "nbsphinx": "hidden"
   },
   "source": [
    "This notebook is part of the *orix* documentation https://orix.rtfd.io. Links to the documentation won’t work from the notebook."
   ]
  },
  {
   "cell_type": "markdown",
   "metadata": {},
   "source": [
    "# Clustering across fundamental region boundaries\n",
    "\n",
    "This tutorial demonstrates density based clustering of crystal orientations with\n",
    "and without the application of crystal symmetry using simulated data.\n",
    "\n",
    "Import orix classes and various dependencies"
   ]
  },
  {
   "cell_type": "code",
   "execution_count": null,
   "metadata": {},
   "outputs": [],
   "source": [
    "# exchange inline for notebook (or qt5 from pyqt) for interactive plotting\n",
    "%matplotlib inline\n",
    "\n",
    "# Import core external\n",
    "import numpy as np\n",
    "import matplotlib.pyplot as plt\n",
    "from sklearn.cluster import DBSCAN\n",
    "\n",
    "# Colorisation & Animation\n",
    "from skimage.color import label2rgb\n",
    "from matplotlib.colors import to_rgb\n",
    "import matplotlib.animation as animation\n",
    "\n",
    "# Import orix classes \n",
    "from orix import plot\n",
    "from orix.quaternion import Orientation, OrientationRegion, Rotation\n",
    "from orix.quaternion.symmetry import C1, Oh\n",
    "from orix.vector import AxAngle\n",
    "\n",
    "\n",
    "plt.rcParams.update({\"figure.figsize\": (10, 5)})"
   ]
  },
  {
   "cell_type": "markdown",
   "metadata": {},
   "source": [
    "## Generate artificial data\n",
    "\n",
    "Generate three random von Mises distributions of orientations as model clusters\n",
    "and set the *Oh* ($m\\bar{3}m$) point group symmetry"
   ]
  },
  {
   "cell_type": "code",
   "execution_count": null,
   "metadata": {},
   "outputs": [],
   "source": [
    "n_orientations = 50\n",
    "alpha = 50  # Lower value lead to \"looser\" distribution\n",
    "\n",
    "# Cluster 1\n",
    "cluster1 = Rotation.random_vonmises(n_orientations, alpha=alpha)\n",
    "\n",
    "# Cluster 2\n",
    "centre2 = Rotation.from_neo_euler(AxAngle.from_axes_angles((1, 0, 0), np.pi / 4))\n",
    "cluster2 = Rotation.random_vonmises(n_orientations, alpha=alpha, reference=centre2)\n",
    "\n",
    "# Cluster 3\n",
    "centre3 = Rotation.from_neo_euler(AxAngle.from_axes_angles((1, 1, 0), np.pi / 3))\n",
    "cluster3 = Rotation.random_vonmises(n_orientations, alpha=alpha, reference=centre3)\n",
    "\n",
    "ori = Orientation.stack([cluster1, cluster2, cluster3]).flatten().set_symmetry(Oh)"
   ]
  },
  {
   "cell_type": "markdown",
   "metadata": {},
   "source": [
    "## Orientation clustering"
   ]
  },
  {
   "cell_type": "markdown",
   "metadata": {},
   "source": [
    "### Perform clustering without application of crystal symmetry"
   ]
  },
  {
   "cell_type": "markdown",
   "metadata": {},
   "source": [
    "Compute misorientations, i.e. distance between orientations"
   ]
  },
  {
   "cell_type": "code",
   "execution_count": null,
   "metadata": {},
   "outputs": [],
   "source": [
    "# Remove symmetry by setting it to point group 1 (identity operation)\n",
    "ori_without_symmetry = ori.set_symmetry(C1)\n",
    "\n",
    "# Misorientations\n",
    "mori1 = (~ori_without_symmetry).outer(ori_without_symmetry)\n",
    "\n",
    "# Misorientation angles\n",
    "D1 = mori1.angle.data"
   ]
  },
  {
   "cell_type": "markdown",
   "metadata": {},
   "source": [
    "Perform clustering"
   ]
  },
  {
   "cell_type": "code",
   "execution_count": null,
   "metadata": {},
   "outputs": [],
   "source": [
    "dbscan_naive = DBSCAN(eps=0.3, min_samples=10, metric=\"precomputed\").fit(D1)\n",
    "print(\"Labels:\", np.unique(dbscan_naive.labels_))"
   ]
  },
  {
   "cell_type": "markdown",
   "metadata": {},
   "source": [
    "### Perform clustering with application of crystal symmetry"
   ]
  },
  {
   "cell_type": "markdown",
   "metadata": {},
   "source": [
    "Compute misorientations, i.e. distance between orientations, with symmetry"
   ]
  },
  {
   "cell_type": "code",
   "execution_count": null,
   "metadata": {},
   "outputs": [],
   "source": [
    "mori2 = (~ori).outer(ori).set_symmetry(Oh)\n",
    "D2 = mori2.angle.data\n",
    "\n",
    "# Or get the angles in one call\n",
    "#D2 = ori.get_distance_matrix(ori).data"
   ]
  },
  {
   "cell_type": "markdown",
   "metadata": {},
   "source": [
    "Perform clustering"
   ]
  },
  {
   "cell_type": "code",
   "execution_count": null,
   "metadata": {},
   "outputs": [],
   "source": [
    "dbscan = DBSCAN(eps=0.3, min_samples=20, metric=\"precomputed\").fit(D2)\n",
    "print(\"Labels:\", np.unique(dbscan.labels_))"
   ]
  },
  {
   "cell_type": "markdown",
   "metadata": {},
   "source": [
    "This should have shown that without symmetry there are 6 clusters, whereas with symmetry there are 3."
   ]
  },
  {
   "cell_type": "markdown",
   "metadata": {},
   "source": [
    "## Visualisation"
   ]
  },
  {
   "cell_type": "markdown",
   "metadata": {},
   "source": [
    "Assign colours to each cluster"
   ]
  },
  {
   "cell_type": "code",
   "execution_count": null,
   "metadata": {},
   "outputs": [],
   "source": [
    "color_names = [to_rgb(f\"C{i}\") for i in range(6)]  # ['C0', 'C1', ...]\n",
    "colors = label2rgb(dbscan.labels_, colors=color_names, bg_label=-1)\n",
    "colors_naive = label2rgb(dbscan_naive.labels_, colors=color_names, bg_label=-1)"
   ]
  },
  {
   "cell_type": "markdown",
   "metadata": {},
   "source": [
    "Specify fundamental zone based on symmetry"
   ]
  },
  {
   "cell_type": "code",
   "execution_count": null,
   "metadata": {},
   "outputs": [],
   "source": [
    "fr = OrientationRegion.from_symmetry(ori.symmetry)"
   ]
  },
  {
   "cell_type": "markdown",
   "metadata": {},
   "source": [
    "Generate plot"
   ]
  },
  {
   "cell_type": "code",
   "execution_count": null,
   "metadata": {
    "tags": [
     "nbsphinx-thumbnail"
    ]
   },
   "outputs": [],
   "source": [
    "fig, ax = plt.subplots(ncols=2, subplot_kw=dict(projection=\"axangle\"))\n",
    "wireframe_kwds = dict(color=\"gray\", alpha=0.5, linewidth=0.5, rcount=30, ccount=30)\n",
    "box_aspects = (1,) * 3\n",
    "\n",
    "# Clustering without symmetry\n",
    "ax[0].scatter(ori_without_symmetry, c=colors_naive)\n",
    "ax[0].plot_wireframe(fr, **wireframe_kwds)\n",
    "ax[0].axis(\"off\")\n",
    "ax[0].set_box_aspect(box_aspects)\n",
    "\n",
    "# Clustering with symmetry\n",
    "ax[1].scatter(ori, c=colors)\n",
    "ax[1].plot_wireframe(fr, **wireframe_kwds)\n",
    "ax[1].axis(\"off\")\n",
    "ax[1].set_box_aspect(box_aspects)\n",
    "\n",
    "fig.tight_layout(w_pad=-5)"
   ]
  },
  {
   "cell_type": "markdown",
   "metadata": {},
   "source": [
    "Generate an animation of the plot (assuming an interactive Matplotlib backend is\n",
    "used)"
   ]
  },
  {
   "cell_type": "code",
   "execution_count": null,
   "metadata": {},
   "outputs": [],
   "source": [
    "def animate(angle):\n",
    "    ax[0].view_init(15, angle)\n",
    "    ax[1].view_init(15, angle)\n",
    "    plt.draw()\n",
    "\n",
    "ani = animation.FuncAnimation(fig, animate, np.linspace(75, 360+74, 720), interval=25)"
   ]
  },
  {
   "cell_type": "markdown",
   "metadata": {},
   "source": [
    "(Note that you might have to move the figure window on your screen for the\n",
    "animation to start.)"
   ]
  }
 ],
 "metadata": {
  "kernelspec": {
   "display_name": "Python 3",
   "language": "python",
   "name": "python3"
  },
  "language_info": {
   "codemirror_mode": {
    "name": "ipython",
    "version": 3
   },
   "file_extension": ".py",
   "mimetype": "text/x-python",
   "name": "python",
   "nbconvert_exporter": "python",
   "pygments_lexer": "ipython3",
   "version": "3.8.6"
  }
 },
 "nbformat": 4,
 "nbformat_minor": 4
}
