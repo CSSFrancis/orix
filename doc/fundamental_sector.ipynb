{
 "cells": [
  {
   "cell_type": "markdown",
   "id": "130a22bd",
   "metadata": {
    "nbsphinx": "hidden"
   },
   "source": [
    "This notebook is part of the *orix* documentation https://orix.rtfd.io. Links to the documentation won’t work from the notebook."
   ]
  },
  {
   "cell_type": "markdown",
   "id": "a6c24bbd",
   "metadata": {},
   "source": [
    "# Fundamental sectors in the stereographic projection"
   ]
  },
  {
   "cell_type": "code",
   "execution_count": null,
   "id": "a64d0ed2-b33e-46d2-9e5c-27fdcdcdfb63",
   "metadata": {},
   "outputs": [],
   "source": [
    "%matplotlib inline\n",
    "\n",
    "import matplotlib.pyplot as plt\n",
    "from orix.quaternion import symmetry\n",
    "from orix import plot\n",
    "\n",
    "\n",
    "# We'll want our plots to look a bit larger than the default size\n",
    "new_params = {\n",
    "    \"figure.facecolor\": \"w\",\n",
    "    \"figure.max_open_warning\": 32,\n",
    "    \"lines.markersize\": 10,\n",
    "    \"font.size\": 20,\n",
    "    \"axes.grid\": True,\n",
    "}\n",
    "plt.rcParams.update(new_params)\n",
    "\n",
    "\n",
    "stereo_kwargs = dict(\n",
    "    ncols=2, figsize=(10, 5), subplot_kw=dict(projection=\"stereographic\")\n",
    ")"
   ]
  },
  {
   "cell_type": "markdown",
   "id": "b7f85b7b-5113-4f2d-bfc3-5781468a09fa",
   "metadata": {},
   "source": [
    "## Laue groups\n",
    "\n",
    "| Hermann-Mauguin | Schoenflies |\n",
    "| --------------- | ----------- |\n",
    "|       *1*       |     *C1*    |\n",
    "|       *2*       |     *C2*    |\n",
    "|      *222*      |     *D2*    |\n",
    "|       *4*       |     *C4*    |\n",
    "|      *422*      |     *D4*    |\n",
    "|       *3*       |     *C3*    |\n",
    "|       *32*      |     *D3*    |\n",
    "|       *6*       |     *C6*    |\n",
    "|      *622*      |     *D6*    |\n",
    "|       *23*      |     *T*     |\n",
    "|      *432*      |     *O*     |"
   ]
  },
  {
   "cell_type": "code",
   "execution_count": null,
   "id": "d0d3e629-666e-44ba-9759-909b1b6f093e",
   "metadata": {},
   "outputs": [],
   "source": [
    "pg_laue = [\n",
    "    symmetry.C1,\n",
    "    symmetry.C2,\n",
    "    symmetry.D2,\n",
    "    symmetry.C4,\n",
    "    symmetry.D4,\n",
    "    symmetry.C3,\n",
    "    symmetry.D3,\n",
    "    symmetry.C6,\n",
    "    symmetry.D6,\n",
    "    symmetry.T,\n",
    "    symmetry.O,\n",
    "]\n",
    "\n",
    "fig, axes = plt.subplots(\n",
    "    ncols=4, nrows=3, subplot_kw=dict(projection=\"stereographic\"), figsize=(20, 13)\n",
    ")\n",
    "axes = axes.ravel()\n",
    "for i in range(len(pg_laue)):\n",
    "    fs = pg_laue[i].fundamental_sector\n",
    "    print(pg_laue[i].name, fs)\n",
    "    axes[i].set_title(pg_laue[i].name)\n",
    "    axes[i].scatter(fs.vertices, c=\"g\")\n",
    "    axes[i].plot(fs.edges, color=\"r\")\n",
    "    axes[i].scatter(fs.center, c=\"b\")\n",
    "axes[-1].set_visible(False)"
   ]
  },
  {
   "cell_type": "code",
   "execution_count": null,
   "id": "81055784-1779-443b-a902-5948adac73e3",
   "metadata": {
    "tags": [
     "nbsphinx-thumbnail"
    ]
   },
   "outputs": [],
   "source": [
    "fig, axes = plt.subplots(\n",
    "    ncols=4, nrows=3, subplot_kw=dict(projection=\"stereographic\"), figsize=(20, 13)\n",
    ")\n",
    "axes = axes.ravel()\n",
    "for i in range(len(pg_laue)):\n",
    "    fs = pg_laue[i].fundamental_sector\n",
    "    axes[i].plot(fs.edges, color=\"r\")\n",
    "    axes[i].restrict_to_sector(fs)\n",
    "axes[-1].set_visible(False)"
   ]
  },
  {
   "cell_type": "markdown",
   "id": "8f5d0590-f3f4-4bc8-a9b2-701ac478ce83",
   "metadata": {},
   "source": [
    "## All 32 point groups"
   ]
  },
  {
   "cell_type": "code",
   "execution_count": null,
   "id": "fabc365f-de0d-4b5b-a2fb-59d6920d398f",
   "metadata": {},
   "outputs": [],
   "source": [
    "pg_all = [\n",
    "    symmetry.C1,\n",
    "    symmetry.Ci,\n",
    "    symmetry.C2,\n",
    "    symmetry.Cs,\n",
    "    symmetry.C2h,\n",
    "    symmetry.D2,\n",
    "    symmetry.C2v,\n",
    "    symmetry.D2h,\n",
    "    symmetry.C4,\n",
    "    symmetry.S4,\n",
    "    symmetry.C4h,\n",
    "    symmetry.D4,\n",
    "    symmetry.C4v,\n",
    "    symmetry.D2d,\n",
    "    symmetry.D4h,\n",
    "    symmetry.C3,\n",
    "    symmetry.S6,\n",
    "    symmetry.D3,\n",
    "    symmetry.C3v,\n",
    "    symmetry.D3d,\n",
    "    symmetry.C6,\n",
    "    symmetry.C3h,\n",
    "    symmetry.C6h,\n",
    "    symmetry.D6,\n",
    "    symmetry.C6v,\n",
    "    symmetry.D3h,\n",
    "    symmetry.D6h,\n",
    "    symmetry.T,\n",
    "    symmetry.Th,\n",
    "    symmetry.O,\n",
    "    symmetry.Td,\n",
    "    symmetry.Oh\n",
    "]"
   ]
  },
  {
   "cell_type": "code",
   "execution_count": null,
   "id": "116feaf8-8b4d-4ead-b4f3-08e5d04dbcb5",
   "metadata": {},
   "outputs": [],
   "source": [
    "fig, axes = plt.subplots(\n",
    "    ncols=4, nrows=8, subplot_kw=dict(projection=\"stereographic\"), figsize=(20, 40)\n",
    ")\n",
    "axes = axes.ravel()\n",
    "for i in range(len(pg_all)):\n",
    "    fs = pg_all[i].fundamental_sector\n",
    "    axes[i].plot(fs.edges, color=\"r\")\n",
    "    axes[i].restrict_to_sector(fs)"
   ]
  },
  {
   "cell_type": "code",
   "execution_count": null,
   "id": "e6ca880d-8b93-4965-b897-294d65084e48",
   "metadata": {},
   "outputs": [],
   "source": [
    "for i in range(len(pg_all)):\n",
    "    pg = pg_all[i]\n",
    "    fs = pg.fundamental_sector\n",
    "    _, ax = plt.subplots(**kwargs)\n",
    "    ax[0].set_title(pg.name, loc=\"left\")\n",
    "    ax[0].plot(fs.edges, color=\"r\")\n",
    "    ax[0].show_hemisphere_label()\n",
    "    ax[0].restrict_to_sector(fs)\n",
    "    ax[1].hemisphere = \"lower\"\n",
    "    ax[1].plot(fs.edges, color=\"r\")\n",
    "    ax[1].show_hemisphere_label()\n",
    "    ax[1].restrict_to_sector(fs)"
   ]
  }
 ],
 "metadata": {
  "kernelspec": {
   "display_name": "Python 3 (ipykernel)",
   "language": "python",
   "name": "python3"
  },
  "language_info": {
   "codemirror_mode": {
    "name": "ipython",
    "version": 3
   },
   "file_extension": ".py",
   "mimetype": "text/x-python",
   "name": "python",
   "nbconvert_exporter": "python",
   "pygments_lexer": "ipython3",
   "version": "3.9.7"
  }
 },
 "nbformat": 4,
 "nbformat_minor": 5
}
