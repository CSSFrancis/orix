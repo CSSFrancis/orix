{
 "cells": [
  {
   "cell_type": "markdown",
   "id": "130a22bd",
   "metadata": {
    "nbsphinx": "hidden"
   },
   "source": [
    "This notebook is part of the *orix* documentation https://orix.rtfd.io. Links to the documentation won’t work from the notebook."
   ]
  },
  {
   "cell_type": "markdown",
   "id": "a6c24bbd",
   "metadata": {},
   "source": [
    "# Fundamental sectors in the stereographic projection\n",
    "\n",
    "| Hermann-Mauguin | Schoenflies |\n",
    "| --------------- | ----------- |\n",
    "|       *1*       |     *C1*    |\n",
    "|       *2*       |     *C2*    |\n",
    "|      *222*      |     *D2*    |\n",
    "|       *4*       |     *C4*    |\n",
    "|      *422*      |     *D4*    |\n",
    "|       *3*       |     *C3*    |\n",
    "|       *32*      |     *D3*    |\n",
    "|       *6*       |     *C6*    |\n",
    "|      *622*      |     *D6*    |\n",
    "|       *23*      |     *T*     |\n",
    "|      *432*      |     *O*     |"
   ]
  },
  {
   "cell_type": "code",
   "execution_count": null,
   "id": "a64d0ed2-b33e-46d2-9e5c-27fdcdcdfb63",
   "metadata": {},
   "outputs": [],
   "source": [
    "%matplotlib inline\n",
    "\n",
    "import matplotlib.pyplot as plt\n",
    "from orix.quaternion import symmetry\n",
    "from orix import plot\n",
    "\n",
    "\n",
    "# We'll want our plots to look a bit larger than the default size\n",
    "new_params = {\n",
    "    \"figure.facecolor\": \"w\",\n",
    "    \"lines.markersize\": 10,\n",
    "    \"font.size\": 20,\n",
    "    \"axes.grid\": True,\n",
    "}\n",
    "plt.rcParams.update(new_params)"
   ]
  },
  {
   "cell_type": "code",
   "execution_count": null,
   "id": "d0d3e629-666e-44ba-9759-909b1b6f093e",
   "metadata": {},
   "outputs": [],
   "source": [
    "pg = [\n",
    "    symmetry.C1,\n",
    "    symmetry.C2,\n",
    "    symmetry.D2,\n",
    "    symmetry.C4,\n",
    "    symmetry.D4,\n",
    "    symmetry.C3,\n",
    "    symmetry.D3,\n",
    "    symmetry.C6,\n",
    "    symmetry.D6,\n",
    "    symmetry.T,\n",
    "    symmetry.O,\n",
    "]\n",
    "\n",
    "fig, axes = plt.subplots(\n",
    "    ncols=4, nrows=3, subplot_kw=dict(projection=\"stereographic\"), figsize=(20, 13)\n",
    ")\n",
    "axes = axes.ravel()\n",
    "for i in range(len(pg)):\n",
    "    fs = pg[i].fundamental_sector\n",
    "    print(pg[i].name, fs)\n",
    "    axes[i].set_title(pg[i].name)\n",
    "    axes[i].scatter(fs.vertices, c=\"g\")\n",
    "    axes[i].plot(fs.edges, color=\"r\")\n",
    "    axes[i].scatter(fs.center, c=\"b\")\n",
    "axes[-1].set_visible(False)"
   ]
  },
  {
   "cell_type": "code",
   "execution_count": null,
   "id": "81055784-1779-443b-a902-5948adac73e3",
   "metadata": {},
   "outputs": [],
   "source": [
    "fig, axes = plt.subplots(\n",
    "    ncols=4, nrows=3, subplot_kw=dict(projection=\"stereographic\"), figsize=(20, 13)\n",
    ")\n",
    "axes = axes.ravel()\n",
    "for i in range(len(pg)):\n",
    "    fs = pg[i].fundamental_sector\n",
    "    axes[i].plot(fs.edges, color=\"r\")\n",
    "    axes[i].restrict_to_sector(fs)\n",
    "axes[-1].set_visible(False)"
   ]
  }
 ],
 "metadata": {
  "kernelspec": {
   "display_name": "Python 3 (ipykernel)",
   "language": "python",
   "name": "python3"
  },
  "language_info": {
   "codemirror_mode": {
    "name": "ipython",
    "version": 3
   },
   "file_extension": ".py",
   "mimetype": "text/x-python",
   "name": "python",
   "nbconvert_exporter": "python",
   "pygments_lexer": "ipython3",
   "version": "3.9.7"
  }
 },
 "nbformat": 4,
 "nbformat_minor": 5
}
