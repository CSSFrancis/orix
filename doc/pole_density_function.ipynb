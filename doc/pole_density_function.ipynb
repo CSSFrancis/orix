{
 "cells": [
  {
   "cell_type": "markdown",
   "metadata": {
    "nbsphinx": "hidden"
   },
   "source": [
    "This notebook is part of the *orix* documentation https://orix.readthedocs.io. Links to the documentation won’t work from the notebook."
   ]
  },
  {
   "cell_type": "markdown",
   "metadata": {},
   "source": [
    "# Visualizing Crystal Poles in the Pole Density Function\n",
    "\n",
    "This notebook demonstrates how to quantify the distribution of crystallographic poles,\n",
    "which is useful, for example, in texture analysis.\n",
    "\n",
    "First, we load some sample orientations which represent crystal orientations in the\n",
    "sample reference frame:\n",
    "\n",
    "NB. if not previously downloaded this will download some example data from an online\n",
    "repository to a local cache, the docstring of [ti_orientations](reference.rst#orix.data.ti_orientations)\n",
    "for more details):"
   ]
  },
  {
   "cell_type": "code",
   "execution_count": null,
   "metadata": {},
   "outputs": [],
   "source": [
    "%matplotlib inline\n",
    "from matplotlib import pyplot as plt\n",
    "from mpl_toolkits.mplot3d import Axes3D\n",
    "import numpy as np\n",
    "\n",
    "from orix.crystal_map import Phase\n",
    "from orix.data import ti_orientations\n",
    "from orix import plot\n",
    "from orix.quaternion import symmetry\n",
    "from orix.sampling.S2_sampling import sample_S2_equal_area_mesh\n",
    "from orix.vector import Miller, Vector3d\n",
    "\n",
    "ori = ti_orientations(allow_download=True)\n",
    "ori.shape"
   ]
  },
  {
   "cell_type": "markdown",
   "metadata": {},
   "source": [
    "Let's look at the sample (011) texture plotted in the stereographic projection.\n",
    "\n",
    "First we must define the crystal's point group and generate the set of symmetrically\n",
    "unique poles: "
   ]
  },
  {
   "cell_type": "code",
   "execution_count": null,
   "metadata": {},
   "outputs": [],
   "source": [
    "m = Miller(hkl=(0, 1, 1), phase=Phase(point_group=symmetry.D6))\n",
    "m = m.symmetrise().unique()\n",
    "m"
   ]
  },
  {
   "cell_type": "markdown",
   "metadata": {},
   "source": [
    "Now let's compute the direction of these poles in the sample reference frame.\n",
    "\n",
    "This is done using the [Orientation](reference.rst#orix.quaternion.Orientation)-[Vector3d](reference.rst#orix.vector.Vector3d) outer product and we can pass `lazy=True`\n",
    "parameter to perform the computation in chunks using `Dask` to reduce memory usage when\n",
    "there are many computations to be performed. "
   ]
  },
  {
   "cell_type": "code",
   "execution_count": null,
   "metadata": {},
   "outputs": [],
   "source": [
    "poles = (~ori).outer(m, lazy=True, progressbar=True, chunk_size=2000)\n",
    "poles.shape"
   ]
  },
  {
   "cell_type": "markdown",
   "metadata": {},
   "source": [
    "We can plot these poles in the sterographic projection:"
   ]
  },
  {
   "cell_type": "code",
   "execution_count": null,
   "metadata": {},
   "outputs": [],
   "source": [
    "fig = poles.scatter(hemisphere='both', s=2, alpha=0.05, return_figure=True)\n",
    "\n",
    "w, h = plt.rcParams['figure.figsize']\n",
    "fig.set_figwidth(2 * h)\n",
    "fig.set_figheight(h)"
   ]
  },
  {
   "cell_type": "markdown",
   "metadata": {},
   "source": [
    "In this case there are many individual data points, which makes it difficult to\n",
    "interpret whether regions contain higher or lower pole density.\n",
    "\n",
    "In this case we can use the [Vector3d.pole_density_function()](reference.rst#orix.vector.Vector3d.pole_density_function) to\n",
    "measure the pole density on the unit sphere $S_2$. Internally this uses the equal area\n",
    "parameterization of the sphere to calculate cells with the same solid angle. In this\n",
    "representation randomly oriented vectors have the same opportunity of intercepting each\n",
    "cell, thus we can represent our samples PDF as Multiples of Random Density (MRD). This follows the work of (<cite data-cite=\"saylor2004distribution\">Saylor et al.(2004)</cite>).\n",
    "\n",
    "Below is the equal area sampling representation on $S_2$ in both the stereographic\n",
    "projection and in 3D, with a resolution of 10&deg;:"
   ]
  },
  {
   "cell_type": "code",
   "execution_count": null,
   "metadata": {},
   "outputs": [],
   "source": [
    "fig = plt.figure(figsize=(3 * h, h))\n",
    "ax0 = fig.add_subplot(131, projection='stereographic')\n",
    "ax1 = fig.add_subplot(132, projection='stereographic')\n",
    "ax2 = fig.add_subplot(133, projection='3d')\n",
    "\n",
    "v_mesh = sample_S2_equal_area_mesh(resolution=10)\n",
    "\n",
    "ax0.hemisphere = 'upper'\n",
    "ax0.scatter(v_mesh)\n",
    "ax0.show_hemisphere_label()\n",
    "ax0.set_labels('x', 'y', None)\n",
    "\n",
    "ax1.hemisphere = 'lower'\n",
    "ax1.scatter(v_mesh)\n",
    "ax1.show_hemisphere_label()\n",
    "ax0.set_labels('x', 'y', None)\n",
    "\n",
    "ax2.scatter(*v_mesh.data.T)\n",
    "\n",
    "lim = 1\n",
    "ax2.set_xlim(-lim, lim)\n",
    "ax2.set_ylim(-lim, lim)\n",
    "ax2.set_zlim(-lim, lim)\n",
    "ax2.set_xlabel('x')\n",
    "ax2.set_ylabel('y')\n",
    "ax2.set_zlabel('z')\n",
    "ax2.set_box_aspect((1, 1, 1))\n",
    "\n",
    "fig.tight_layout()"
   ]
  },
  {
   "cell_type": "markdown",
   "metadata": {},
   "source": [
    "For randomly distributed vectors on $S_2$, we can can see that MRD tends to 1 with an increasing number of vectors:\n",
    "\n",
    "NB. PDF plots are displayed on the same color scale."
   ]
  },
  {
   "cell_type": "code",
   "execution_count": null,
   "metadata": {},
   "outputs": [],
   "source": [
    "num = [10_000, 100_000, 1_000_000, 10_000_000]\n",
    "\n",
    "fig, ax = plt.subplots(ncols=4, figsize=(len(num) * h, h), subplot_kw=dict(projection='stereographic'))\n",
    "\n",
    "for i, n in enumerate(num):\n",
    "    v = Vector3d(np.random.randn(n, 3)).unit\n",
    "    ax[i].pole_density_function(v.azimuth, v.polar, log=False, vmin=0.8, vmax=1.2)\n",
    "    ax[i].set_labels('x', 'y', None)\n",
    "    ax[i].set_title(str(n))"
   ]
  },
  {
   "cell_type": "markdown",
   "metadata": {},
   "source": [
    "We can also change the sampling resolution on $S_2$, the colormap, and broadening of the density distrbution:"
   ]
  },
  {
   "cell_type": "code",
   "execution_count": null,
   "metadata": {},
   "outputs": [],
   "source": [
    "fig, ax = plt.subplots(ncols=3, figsize=(3 * h, h), subplot_kw=dict(projection='stereographic'))\n",
    "\n",
    "v = Vector3d(np.random.randn(1_000_000, 3)).unit\n",
    "\n",
    "ax[0].pole_density_function(v.azimuth, v.polar, log=False, resolution=1)\n",
    "ax[0].set_title('Sampling resolution: 1$\\degree$')\n",
    "\n",
    "# change sampling resolution on S2\n",
    "ax[1].pole_density_function(v.azimuth, v.polar, log=False, resolution=5)\n",
    "ax[1].set_title('Sampling resolution: 5$\\degree$')\n",
    "\n",
    "# increase peak broadening\n",
    "ax[2].pole_density_function(v.azimuth, v.polar, log=False, resolution=1, sigma=15)\n",
    "ax[2].set_title('Sampling resolution: 1$\\degree$, $\\sigma$: 15$\\degree$')\n",
    "\n",
    "for a in ax:\n",
    "    a.set_labels('x', 'y', None)\n",
    "\n",
    "fig.tight_layout()"
   ]
  },
  {
   "cell_type": "markdown",
   "metadata": {},
   "source": [
    "Poles from real samples tend to not be randomly oriented, as the material microstructure is arranged into regions of similar crystal orientation, known as grains.\n",
    "\n",
    "The PDF for the measured (011) poles from the Titanium sample loaded at the beginning of the notebook:"
   ]
  },
  {
   "cell_type": "code",
   "execution_count": null,
   "metadata": {},
   "outputs": [],
   "source": [
    "fig = poles.pole_density_function(hemisphere='both', return_figure=True, log=False)\n",
    "fig.set_figwidth(2 * h)\n",
    "fig.set_figheight(h)"
   ]
  },
  {
   "cell_type": "markdown",
   "metadata": {},
   "source": [
    "We can also plot these densities on a log scale to reduce the contrast and observe lower density regions.\n",
    "\n",
    "By comparing the point data shown at the top of the notebook with the calculated pole densities, we can see that not all regions in the point data representation have the same weight and the PDF is needed for better quantification:"
   ]
  },
  {
   "cell_type": "code",
   "execution_count": null,
   "metadata": {
    "nbsphinx-thumbnail": {
     "tooltip": "Comparing PDF with pole point data in the stereographic projection."
    },
    "tags": [
     "nbsphinx-thumbnail"
    ]
   },
   "outputs": [],
   "source": [
    "fig, ax = plt.subplots(ncols=3, subplot_kw=dict(projection='stereographic'), figsize=(3 * h, h))\n",
    "\n",
    "ax[0].hemisphere = 'upper'\n",
    "ax[1].hemisphere = 'upper'\n",
    "\n",
    "ax[0].scatter(poles, s=2, alpha=0.05)\n",
    "ax[1].pole_density_function(poles.azimuth, poles.polar, log=True)\n",
    "ax[2].scatter(poles, s=2, alpha=0.01, c='w')\n",
    "ax[2].pole_density_function(poles.azimuth, poles.polar, log=True)\n",
    "\n",
    "for a in ax:\n",
    "    a.set_labels('x', 'y', None)"
   ]
  }
 ],
 "metadata": {
  "interpreter": {
   "hash": "4396f389b93e7269692bd3bea4c62813bbe379469bde939b058805f538feec11"
  },
  "kernelspec": {
   "display_name": "Python 3 (ipykernel)",
   "language": "python",
   "name": "python3"
  },
  "language_info": {
   "codemirror_mode": {
    "name": "ipython",
    "version": 3
   },
   "file_extension": ".py",
   "mimetype": "text/x-python",
   "name": "python",
   "nbconvert_exporter": "python",
   "pygments_lexer": "ipython3",
   "version": "3.9.12"
  }
 },
 "nbformat": 4,
 "nbformat_minor": 4
}
