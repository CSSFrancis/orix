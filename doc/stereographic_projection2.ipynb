{
 "cells": [
  {
   "cell_type": "markdown",
   "id": "joint-regulation",
   "metadata": {
    "nbsphinx": "hidden"
   },
   "source": [
    "This notebook is part of the *orix* documentation https://orix.rtfd.io. Links to the documentation won’t work from the notebook."
   ]
  },
  {
   "cell_type": "markdown",
   "id": "backed-temperature",
   "metadata": {},
   "source": [
    "# Stereographic projection 2\n",
    "\n",
    "The stereographic projection maps a sphere onto a plane, and preserves angles at\n",
    "which curves meet. In orix, the projection is used to project unit\n",
    "[Vector3d](reference.rst#orix.vector.Vector3d) objects onto the equatorial plane\n",
    "represented in spherical coordinates, notably the azimuth angle $\\phi$, in the\n",
    "range $[0^{\\circ}, 360^{\\circ}]$, and the polar angle $\\theta$, in the range\n",
    "$[0^{\\circ}, 90^{\\circ}]$ on the upper hemisphere and\n",
    "$[90^{\\circ}, 180^{\\circ}]$ on the lower hemisphere. The projection is\n",
    "implemented in\n",
    "[StereographicProjection](reference.rst#orix.projections.StereographicProjection),\n",
    "together with the\n",
    "[InverseStereographicProjection](reference.rst#orix.projections.InverseStereographicProjection).\n",
    "These are used in the\n",
    "[StereographicPlot](reference.rst#orix.plot.StereographicPlot), which extends\n",
    "Matplotlib's projections framework for plotting of `Vector3d` objects.\n",
    "\n",
    "The projection can be used \"from Matplotlib\", in that `Vector3d` objects or the\n",
    "spherical coordinates ($\\phi$, $\\theta$) are passed to Matplotlib functions.\n",
    "While this is the most customizable way of plotting vectors in the stereographic\n",
    "projection, a [Vector3d.scatter()](reference.rst#orix.vector.Vector3d.scatter)\n",
    "method is also provided for quick and easy plotting.\n",
    "\n",
    "This user guide shows how to plot vectors in the stereographic projection, and\n",
    "how to customize the stereographic plots, using both the quick\n",
    "`Vector3d.scatter()` method and the \"from Matplotlib\" way."
   ]
  },
  {
   "cell_type": "code",
   "execution_count": null,
   "id": "swiss-packaging",
   "metadata": {},
   "outputs": [],
   "source": [
    "# Exchange \"inline\" for:\n",
    "# \"qt5\" for interactive plotting from the pyqt package\n",
    "# \"notebook\" for inline interactive plotting when running on Binder\n",
    "%matplotlib inline\n",
    "\n",
    "import tempfile\n",
    "import numpy as np\n",
    "import matplotlib.pyplot as plt\n",
    "from orix import vector\n",
    "\n",
    "\n",
    "# We'll want our plots to look a bit larger than the default size\n",
    "new_params = {\n",
    "    \"figure.figsize\": (10, 10),\n",
    "    \"lines.markersize\": 10,\n",
    "    \"font.size\": 20,\n",
    "    \"axes.grid\": False,\n",
    "}\n",
    "plt.rcParams.update(new_params)"
   ]
  },
  {
   "cell_type": "markdown",
   "id": "curious-booking",
   "metadata": {},
   "source": [
    "## Plot vectors"
   ]
  },
  {
   "cell_type": "markdown",
   "id": "restricted-difficulty",
   "metadata": {},
   "source": [
    "Plotting three vectors with\n",
    "[Vector3d.scatter()](reference.rst#orix.vector.Vector3d.scatter) without\n",
    "customizing the plot"
   ]
  },
  {
   "cell_type": "code",
   "execution_count": null,
   "id": "statutory-clone",
   "metadata": {},
   "outputs": [],
   "source": [
    "v1 = vector.Vector3d([[1, 0, 0], [0, 1, 0], [0, 0, 1]])\n",
    "v1.scatter()"
   ]
  },
  {
   "cell_type": "markdown",
   "id": "industrial-lambda",
   "metadata": {},
   "source": [
    "Hover the cursor over the equatorial plane to see the spherical coordinates when\n",
    "plotting interactively (with `qt5`, `notebook`, or similar backends).\n",
    "\n",
    "The current figure is available in the\n",
    "[Vector3d.figure](reference.rst#orix.vector.Vector3d.figure) attribute"
   ]
  },
  {
   "cell_type": "code",
   "execution_count": null,
   "id": "closing-cache",
   "metadata": {},
   "outputs": [],
   "source": [
    "temp_dir = tempfile.mkdtemp() + \"/\"  # Write to a temporary directory\n",
    "vector_file = temp_dir + \"vectors.png\"\n",
    "v1.figure.savefig(vector_file, bbox_inches=\"tight\", pad_inches=0)"
   ]
  },
  {
   "cell_type": "markdown",
   "id": "controlled-failure",
   "metadata": {},
   "source": [
    "In the \"from Matplotlib\" way with\n",
    "[StereographicPlot.scatter()](reference.rst#orix.plot.StereographicPlot.scatter),\n",
    "also calling\n",
    "[StereographicPlot.set_labels()](reference.rst#orix.plot.StereographicPlot.set_labels)"
   ]
  },
  {
   "cell_type": "code",
   "execution_count": null,
   "id": "satisfied-faculty",
   "metadata": {},
   "outputs": [],
   "source": [
    "fig, ax = plt.subplots(subplot_kw=dict(projection=\"stereographic\"))\n",
    "ax.scatter(v1)"
   ]
  },
  {
   "cell_type": "markdown",
   "id": "negative-aruba",
   "metadata": {},
   "source": [
    "Let's turn on the azimuth and polar grid by updating the Matplotlib preferences."
   ]
  },
  {
   "cell_type": "code",
   "execution_count": null,
   "id": "obvious-ladder",
   "metadata": {},
   "outputs": [],
   "source": [
    "plt.rcParams[\"axes.grid\"] = True"
   ]
  },
  {
   "cell_type": "markdown",
   "id": "orange-allergy",
   "metadata": {},
   "source": [
    "### Upper and/or lower hemisphere\n",
    "\n",
    "We can plot vectors impinging on the upper hemisphere and/or the lower hemisphere\n",
    "by passing \"upper\", \"lower\", or \"both\" to the `hemisphere` parameter in\n",
    "[Vector3d.scatter()](reference.rst#orix.vector.Vector3d.scatter)"
   ]
  },
  {
   "cell_type": "code",
   "execution_count": null,
   "id": "located-article",
   "metadata": {},
   "outputs": [],
   "source": [
    "v2 = vector.Vector3d([[1, 1, 2], [1, 1, -1]])\n",
    "\n",
    "fig_kwargs = dict(figsize=(5, 5))\n",
    "labels = [\"x\", \"y\", None]\n",
    "v2.scatter(\n",
    "    axes_labels=labels, show_hemisphere_label=True, figure_kwargs=fig_kwargs\n",
    ")  # \"upper\" default\n",
    "v2.scatter(\n",
    "    hemisphere=\"lower\",\n",
    "    axes_labels=labels,\n",
    "    show_hemisphere_label=True,\n",
    "    figure_kwargs=fig_kwargs\n",
    ")\n",
    "v2.scatter(hemisphere=\"both\", axes_labels=labels)"
   ]
  },
  {
   "cell_type": "markdown",
   "id": "upset-vienna",
   "metadata": {},
   "source": [
    "In the \"from Matplotlib\" way by setting the\n",
    "[StereographicPlot.hemisphere](reference.rst#orix.plot.StereographicPlot.hemisphere)\n",
    "attribute. Remember to set the hemisphere before calling `scatter()`."
   ]
  },
  {
   "cell_type": "code",
   "execution_count": null,
   "id": "radio-serbia",
   "metadata": {},
   "outputs": [],
   "source": [
    "fig, ax = plt.subplots(ncols=2, subplot_kw=dict(projection=\"stereographic\"))\n",
    "\n",
    "ax[0].scatter(v2, c=\"C0\")  # blue\n",
    "ax[0].show_hemisphere_label(color=\"C0\")  # Pass keyword arguments to text()\n",
    "ax[0].set_labels(zlabel=None)\n",
    "\n",
    "ax[1].hemisphere = \"lower\"  # /\"south\", or \"upper\"/\"north\"\n",
    "ax[1].scatter(v2, c=\"C1\")  # orange\n",
    "ax[1].show_hemisphere_label()\n",
    "ax[1].set_labels(\"RD\", \"TD\", \"ND\", size=15)  # Pass keyword arguments to text()"
   ]
  },
  {
   "cell_type": "markdown",
   "id": "dominican-scene",
   "metadata": {},
   "source": [
    "### Control grid\n",
    "\n",
    "Whether to show the grid or not can be set globally via\n",
    "[Matplotlib rcParams](https://matplotlib.org/stable/tutorials/introductory/customizing.html#matplotlib-rcparams)\n",
    "or controlled via the parameters `grid`, True/False, and `grid_resolution`, a tuple with\n",
    "(azimuth, polar) resolution in degrees, to\n",
    "[Vector3d.scatter()](reference.rst#orix.vector.Vector3d.scatter). Default grid\n",
    "resolution is $0^{\\circ}$ for both grids."
   ]
  },
  {
   "cell_type": "code",
   "execution_count": null,
   "id": "hybrid-calculation",
   "metadata": {},
   "outputs": [],
   "source": [
    "v3 = vector.Vector3d([[0, 0, 1], [1, 0, 1], [1, 1, 1]])\n",
    "v3.scatter(grid_resolution=(30, 15))"
   ]
  },
  {
   "cell_type": "markdown",
   "id": "inside-proof",
   "metadata": {},
   "source": [
    "These can also be set after the figure is created via the\n",
    "[Vector3d.figure](reference.rst#orix.vector.Vector3d.figure) attribute"
   ]
  },
  {
   "cell_type": "code",
   "execution_count": null,
   "id": "inclusive-gates",
   "metadata": {},
   "outputs": [],
   "source": [
    "v4 = vector.Vector3d(np.append(v3.data, -v3.data, axis=0))\n",
    "\n",
    "v4.scatter(hemisphere=\"both\")\n",
    "ax0, ax1 = v4.figure.axes\n",
    "ax0.azimuth_grid(45)\n",
    "ax1.polar_grid(5)"
   ]
  },
  {
   "cell_type": "markdown",
   "id": "global-scratch",
   "metadata": {},
   "source": [
    "We can also remove the grid if desirable"
   ]
  },
  {
   "cell_type": "code",
   "execution_count": null,
   "id": "female-learning",
   "metadata": {},
   "outputs": [],
   "source": [
    "v4.scatter(hemisphere=\"both\", grid=False)"
   ]
  },
  {
   "cell_type": "markdown",
   "id": "equivalent-pacific",
   "metadata": {},
   "source": [
    "In the \"from Matplotlib\" way, the polar and azimuth grid resolution can be set either upon axis initialization\n",
    "or after the axis is created using\n",
    "[StereographicPlot.polar_grid()](reference.rst#orix.plot.StereographicPlot.polar_grid)\n",
    "and\n",
    "[StereographicPlot.azimuth_grid()](reference.rst#orix.plot.StereographicPlot.azimuth_grid).\n",
    "The default grid resolution is $10^{\\circ}$ for both grids, but these can be\n",
    "changed separately"
   ]
  },
  {
   "cell_type": "code",
   "execution_count": null,
   "id": "governmental-venice",
   "metadata": {},
   "outputs": [],
   "source": [
    "subplot_kw = dict(\n",
    "    projection=\"stereographic\", polar_resolution=10, azimuth_resolution=10\n",
    ")\n",
    "fig, ax = plt.subplots(ncols=3, figsize=(15, 20), subplot_kw=subplot_kw)\n",
    "\n",
    "ax[0].scatter(v4)\n",
    "ax[0].show_hemisphere_label()\n",
    "\n",
    "ax[1].hemisphere = \"lower\"\n",
    "ax[1].show_hemisphere_label()\n",
    "ax[1].scatter(v4)\n",
    "ax[1].polar_grid(15)\n",
    "ax[1].azimuth_grid(30)\n",
    "\n",
    "ax[2].scatter(v4)\n",
    "ax[2].grid(False)"
   ]
  },
  {
   "cell_type": "markdown",
   "id": "comparative-trick",
   "metadata": {},
   "source": [
    "### Annotate vectors\n",
    "\n",
    "Vectors can be annotated by passing a list of strings to the `vector_labels` \n",
    "parameter in [Vector3d.scatter()](reference.rst#orix.vector.Vector3d.scatter)"
   ]
  },
  {
   "cell_type": "code",
   "execution_count": null,
   "id": "infinite-edinburgh",
   "metadata": {},
   "outputs": [],
   "source": [
    "v4.scatter(\n",
    "    hemisphere=\"both\",\n",
    "    vector_labels=[str(vi).replace(\" \", \"\") for vi in v4.data],\n",
    "    text_kwargs=dict(size=15)\n",
    ")"
   ]
  },
  {
   "cell_type": "markdown",
   "id": "lesbian-miller",
   "metadata": {},
   "source": [
    "In the \"from Matplotlib\" way, by looping over the vectors and adding text\n",
    "markers using [StereographicPlot.text()](reference.rst#orix.plot.StereographicPlot.text)"
   ]
  },
  {
   "cell_type": "code",
   "execution_count": null,
   "id": "studied-bosnia",
   "metadata": {},
   "outputs": [],
   "source": [
    "fig, ax = plt.subplots(ncols=2, subplot_kw=dict(projection=\"stereographic\"))\n",
    "\n",
    "format_vector = lambda v: str(v.data[0]).replace(\" \", \"\")\n",
    "\n",
    "ax[0].scatter(v4)\n",
    "ax[0].show_hemisphere_label()\n",
    "for vi in v4:\n",
    "    ax[0].text(vi, s=format_vector(vi), size=15)\n",
    "    \n",
    "ax[1].hemisphere = \"lower\"\n",
    "ax[1].scatter(v4)\n",
    "ax[1].show_hemisphere_label()\n",
    "for vi in v4[:2]:\n",
    "    ax[1].text(vi, s=format_vector(vi), size=15)\n",
    "for vi in v4[2:]:\n",
    "    ax[1].text(vi, s=format_vector(vi), size=15)"
   ]
  },
  {
   "cell_type": "markdown",
   "id": "according-occasions",
   "metadata": {},
   "source": [
    "### Pass spherical coordinates\n",
    "\n",
    "We can also pass azimuth and polar angles instead of passing vectors. This only\n",
    "works in the \"from Matplotlib\" way"
   ]
  },
  {
   "cell_type": "code",
   "execution_count": null,
   "id": "deluxe-webster",
   "metadata": {},
   "outputs": [],
   "source": [
    "fig, ax = plt.subplots(\n",
    "    figsize=(5, 5), subplot_kw=dict(projection=\"stereographic\")\n",
    ")\n",
    "azimuth = np.deg2rad([0, 60, 180])\n",
    "polar = np.deg2rad([0, 60, 60])\n",
    "ax.scatter(azimuth, polar, c=[\"C0\", \"C1\", \"C2\"], s=200)\n",
    "ax.set_labels(\"RD\", \"TD\", None)\n",
    "ax.show_hemisphere_label()"
   ]
  },
  {
   "cell_type": "markdown",
   "id": "vocational-australia",
   "metadata": {},
   "source": [
    "Here, we also passed `None` to\n",
    "[StereographicPlot.set_labels()](reference.rst#orix.plot.StereographicPlot.set_labels)\n",
    "so that the Z axis label is not shown.\n",
    "\n",
    "Producing the same plot with `Vector3d.scatter()`"
   ]
  },
  {
   "cell_type": "code",
   "execution_count": null,
   "id": "competent-daisy",
   "metadata": {
    "tags": [
     "nbsphinx-thumbnail"
    ]
   },
   "outputs": [],
   "source": [
    "v4 = vector.Vector3d.from_polar(azimuth=azimuth, polar=polar)\n",
    "v4.scatter(\n",
    "    axes_labels=[\"RD\", \"TD\", None],\n",
    "    show_hemisphere_label=True,\n",
    "    figure_kwargs=dict(figsize=(5, 5)),\n",
    "    c=[\"C0\", \"C1\", \"C2\"],\n",
    "    s=200\n",
    ")"
   ]
  },
  {
   "cell_type": "markdown",
   "id": "better-technical",
   "metadata": {},
   "source": [
    "## Experimental functionality\n",
    "\n",
    "Plot symmetry elements of point groups with proper rotations only, using\n",
    "[StereographicPlot.symmetry_marker()](reference.rst#orix.plot.StereographicPlot.symmetry_marker)"
   ]
  },
  {
   "cell_type": "code",
   "execution_count": null,
   "id": "impressive-strategy",
   "metadata": {},
   "outputs": [],
   "source": [
    "fig, ax = plt.subplots(ncols=2, subplot_kw=dict(projection=\"stereographic\"))\n",
    "\n",
    "marker_size = 500\n",
    "ax[0].grid(False)\n",
    "ax[0].set_title(\"432\", pad=20)\n",
    "# 4-fold (outer markers will be clipped a bit...)\n",
    "v4fold = vector.Vector3d(\n",
    "    [[0, 0, 1], [1, 0, 0], [-1, 0, 0], [0, 1, 0], [0, -1, 0]]\n",
    ")\n",
    "ax[0].symmetry_marker(v4fold, fold=4, c=\"C4\", s=marker_size)\n",
    "ax[0].circle(v4fold, c=\"C4\")\n",
    "# 3-fold\n",
    "v3fold = vector.Vector3d([[1, 1, 1], [1, -1, 1], [-1, -1, 1], [-1, 1, 1]])\n",
    "ax[0].symmetry_marker(v3fold, fold=3, c=\"C3\", s=marker_size)\n",
    "ax[0].circle(v3fold, c=\"C3\")\n",
    "# 2-fold\n",
    "v2fold = vector.Vector3d([\n",
    "    [1, 0, 1],\n",
    "    [0, 1, 1],\n",
    "    [-1, 0, 1],\n",
    "    [0, -1, 1],\n",
    "    [1, 1, 0],\n",
    "    [-1, -1, 0],\n",
    "    [-1, 1, 0],\n",
    "    [1, -1, 0],\n",
    "])\n",
    "ax[0].symmetry_marker(v2fold, fold=2, c=\"C2\", s=marker_size)\n",
    "ax[0].circle(v2fold, c=\"C2\")\n",
    "\n",
    "ax[1].grid(False)\n",
    "ax[1].set_title(\"222\", pad=20)\n",
    "# 2-fold\n",
    "v2fold = vector.Vector3d([\n",
    "    [0, 0, 1], [1, 0, 0], [-1, 0, 0], [0, 1, 0], [0, -1, 0]\n",
    "])\n",
    "ax[1].symmetry_marker(v2fold, fold=2, c=\"C2\", s=800)\n",
    "ax[1].circle(v2fold, c=\"C2\")"
   ]
  },
  {
   "cell_type": "code",
   "execution_count": null,
   "id": "weekly-cycling",
   "metadata": {
    "nbsphinx": "hidden"
   },
   "outputs": [],
   "source": [
    "# Remove files written to disk in this user guide\n",
    "import os\n",
    "os.remove(vector_file)\n",
    "os.rmdir(temp_dir)"
   ]
  }
 ],
 "metadata": {
  "kernelspec": {
   "display_name": "Python 3",
   "language": "python",
   "name": "python3"
  },
  "language_info": {
   "codemirror_mode": {
    "name": "ipython",
    "version": 3
   },
   "file_extension": ".py",
   "mimetype": "text/x-python",
   "name": "python",
   "nbconvert_exporter": "python",
   "pygments_lexer": "ipython3",
   "version": "3.8.6"
  }
 },
 "nbformat": 4,
 "nbformat_minor": 5
}
