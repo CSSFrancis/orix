{
 "cells": [
  {
   "cell_type": "markdown",
   "metadata": {},
   "source": [
    "## Demonstration of rotations using Euler angles in orix"
   ]
  },
  {
   "cell_type": "code",
   "execution_count": 1,
   "metadata": {},
   "outputs": [
    {
     "data": {
      "application/vnd.jupyter.widget-view+json": {
       "model_id": "84813404dcb94c4a99c63e883126ec16",
       "version_major": 2,
       "version_minor": 0
      },
      "text/plain": [
       "interactive(children=(IntSlider(value=0, description='psi1', max=359), IntSlider(value=0, description='phi', m…"
      ]
     },
     "metadata": {},
     "output_type": "display_data"
    },
    {
     "data": {
      "application/vnd.jupyter.widget-view+json": {
       "model_id": "c59c861d533e40ed898fe80777b73a79",
       "version_major": 2,
       "version_minor": 0
      },
      "text/html": [
       "\n",
       "            <div style=\"display: inline-block;\">\n",
       "                <div class=\"jupyter-widgets widget-label\" style=\"text-align: center;\">\n",
       "                    Figure\n",
       "                </div>\n",
       "                <img src='data:image/png;base64,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' width=640.0/>\n",
       "            </div>\n",
       "        "
      ],
      "text/plain": [
       "Canvas(toolbar=Toolbar(toolitems=[('Home', 'Reset original view', 'home', 'home'), ('Back', 'Back to previous …"
      ]
     },
     "metadata": {},
     "output_type": "display_data"
    }
   ],
   "source": [
    "%matplotlib widget\n",
    "from ipywidgets import IntSlider, interactive\n",
    "import numpy as np\n",
    "from orix.vector import Vector3d\n",
    "from orix.quaternion import Orientation\n",
    "from orix.plot.unit_cell_plot import _calculate_basic_unit_cell_vertices, _calculate_basic_unit_cell_edges\n",
    "from diffpy.structure import Structure, Lattice\n",
    "\n",
    "# define orthorhombic unit cell structure\n",
    "lattice = Lattice(1.5, 2, 1, 90, 90, 90)\n",
    "structure = Structure(lattice=lattice)\n",
    "\n",
    "# define an initial Orientation\n",
    "ori0 = Orientation.from_euler((0, 0, 0), direction='lab2crystal')\n",
    "\n",
    "# initial plot\n",
    "axes_length = 0.5\n",
    "fig = ori0.plot_unit_cell(return_figure=True, axes_length=axes_length, structure=None)\n",
    "assert len(fig.axes) == 1\n",
    "axes = fig.axes[0]\n",
    "\n",
    "# define an initial unit cell (cubic)\n",
    "a1, a2, a3 = lattice.a, lattice.b, lattice.c\n",
    "verts = _calculate_basic_unit_cell_vertices(a1, a2, a3)\n",
    "edges = _calculate_basic_unit_cell_edges(verts, a1, a2, a3)\n",
    "edges = Vector3d(edges)\n",
    "\n",
    "# get plot features\n",
    "lattice = {a.get_label(): a for a in axes.lines}\n",
    "ref_axes = {a.get_label(): a for a in axes.patches}\n",
    "ref_axes_text = {a.get_label(): a for a in axes.texts}\n",
    "ref_axes_labels = ('x', 'y', 'z')\n",
    "\n",
    "# change this flag to put crystal references axes at sample reference frame origin\n",
    "crystal_reference_axes_at_sample_reference_origin = True\n",
    "# define what happens on rotation\n",
    "def update(psi1, phi, psi2):\n",
    "    rot = Orientation.from_euler(np.deg2rad((psi1, phi, psi2)), direction='lab2crystal')\n",
    "    edges_rot = rot * edges\n",
    "\n",
    "    for i, (v1, v2) in enumerate(edges_rot.data):\n",
    "        lattice[f'Lattice edge {i}'].set_data_3d(*zip(v1, v2))\n",
    "\n",
    "    for i, v in enumerate(Vector3d(np.eye(3))):\n",
    "        v1 = (rot * v).data.ravel() * axes_length\n",
    "        v0r = rot * Vector3d(verts[0])  # offset axes to sit on crystal origin\n",
    "        _data = np.zeros((3, 2))\n",
    "        if not crystal_reference_axes_at_sample_reference_origin:\n",
    "            _data = (_data.T + v0r.data).T\n",
    "        _data[:, 1] += v1\n",
    "        ref_axes[f\"Crystal reference axes {ref_axes_labels[i]}\"]._verts3d = tuple(_data)\n",
    "        ref_axes_text[f\"Crystal reference axes label {ref_axes_labels[i]}\"].set_position_3d(_data[:,1])\n",
    "\n",
    "# run interactive function\n",
    "interactive(update, psi1=IntSlider(0, 0, 359), phi=IntSlider(0, 0, 359), psi2=IntSlider(0, 0, 359))"
   ]
  }
 ],
 "metadata": {
  "interpreter": {
   "hash": "49342456f11b370b98c323b8ac715f592887f17bc9a367ad1ce07f73b580c5c4"
  },
  "kernelspec": {
   "display_name": "Python 3.9.7 64-bit ('orix': conda)",
   "language": "python",
   "name": "python3"
  },
  "language_info": {
   "codemirror_mode": {
    "name": "ipython",
    "version": 3
   },
   "file_extension": ".py",
   "mimetype": "text/x-python",
   "name": "python",
   "nbconvert_exporter": "python",
   "pygments_lexer": "ipython3",
   "version": "3.9.7"
  },
  "orig_nbformat": 4
 },
 "nbformat": 4,
 "nbformat_minor": 2
}
