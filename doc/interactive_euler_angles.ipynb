{
 "cells": [
  {
   "cell_type": "markdown",
   "metadata": {},
   "source": [
    "## Demonstration of rotations using Euler angles in orix"
   ]
  },
  {
   "cell_type": "code",
   "execution_count": 1,
   "metadata": {},
   "outputs": [
    {
     "data": {
      "application/vnd.jupyter.widget-view+json": {
       "model_id": "870bbd87482448efb291eb8724b51a17",
       "version_major": 2,
       "version_minor": 0
      },
      "text/plain": [
       "interactive(children=(IntSlider(value=0, description='psi1', max=359), IntSlider(value=0, description='phi', m…"
      ]
     },
     "metadata": {},
     "output_type": "display_data"
    },
    {
     "data": {
      "application/vnd.jupyter.widget-view+json": {
       "model_id": "b29842c2b3844916ba7bcefbbf80e4ec",
       "version_major": 2,
       "version_minor": 0
      },
      "text/html": [
       "\n",
       "            <div style=\"display: inline-block;\">\n",
       "                <div class=\"jupyter-widgets widget-label\" style=\"text-align: center;\">\n",
       "                    Figure\n",
       "                </div>\n",
       "                <img src='data:image/png;base64,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' width=640.0/>\n",
       "            </div>\n",
       "        "
      ],
      "text/plain": [
       "Canvas(toolbar=Toolbar(toolitems=[('Home', 'Reset original view', 'home', 'home'), ('Back', 'Back to previous …"
      ]
     },
     "metadata": {},
     "output_type": "display_data"
    }
   ],
   "source": [
    "%matplotlib widget\n",
    "from ipywidgets import IntSlider, interactive\n",
    "import numpy as np\n",
    "from orix.vector import Vector3d\n",
    "from orix.quaternion import Orientation\n",
    "from orix.plot.unit_cell_plot import _calculate_basic_unit_cell_vertices, _calculate_basic_unit_cell_edges\n",
    "\n",
    "# define an initial Orientation\n",
    "ori0 = Orientation.from_euler((0, 0, 0), direction='lab2crystal')\n",
    "\n",
    "# initial plot\n",
    "axes_length = 0.5\n",
    "fig = ori0.plot_unit_cell(return_figure=True, axes_length=axes_length)\n",
    "assert len(fig.axes) == 1\n",
    "axes = fig.axes[0]\n",
    "\n",
    "# define an initial unit cell (cubic)\n",
    "a1, a2, a3 = 2, 2, 2\n",
    "verts = _calculate_basic_unit_cell_vertices(a1, a2, a3)\n",
    "edges = _calculate_basic_unit_cell_edges(verts, a1, a2, a3)\n",
    "edges = Vector3d(edges)\n",
    "\n",
    "# get plot features\n",
    "lattice = {a.get_label(): a for a in axes.lines}\n",
    "ref_axes = {a.get_label(): a for a in axes.patches}\n",
    "ref_axes_text = {a.get_label(): a for a in axes.texts}\n",
    "ref_axes_labels = ('x', 'y', 'z')\n",
    "\n",
    "# change this flag to put crystal references axes at sample reference frame origin\n",
    "crystal_reference_axes_at_sample_reference_origin = True\n",
    "# define what happens on rotation\n",
    "def update(psi1, phi, psi2):\n",
    "    rot = Orientation.from_euler(np.deg2rad((psi1, phi, psi2)), direction='lab2crystal')\n",
    "    edges_rot = rot * edges\n",
    "\n",
    "    for i, (v1, v2) in enumerate(edges_rot.data):\n",
    "        lattice[f'Lattice edge {i}'].set_data_3d(*zip(v1, v2))\n",
    "\n",
    "    for i, v in enumerate(Vector3d(np.eye(3))):\n",
    "        v1 = (rot * v).data.ravel() * axes_length\n",
    "        v0r = rot * Vector3d(verts[0])  # offset axes to sit on crystal origin\n",
    "        _data = np.zeros((3, 2))\n",
    "        if not crystal_reference_axes_at_sample_reference_origin:\n",
    "            _data = (_data.T + v0r.data).T\n",
    "        _data[:, 1] += v1\n",
    "        ref_axes[f\"Crystal reference axes {ref_axes_labels[i]}\"]._verts3d = tuple(_data)\n",
    "        ref_axes_text[f\"Crystal reference axes label {ref_axes_labels[i]}\"].set_position_3d(_data[:,1])\n",
    "\n",
    "# run interactive function\n",
    "interactive(update, psi1=IntSlider(0,0, 359), phi=IntSlider(0,0, 359), psi2=IntSlider(0,0, 359))"
   ]
  }
 ],
 "metadata": {
  "interpreter": {
   "hash": "49342456f11b370b98c323b8ac715f592887f17bc9a367ad1ce07f73b580c5c4"
  },
  "kernelspec": {
   "display_name": "Python 3.9.7 64-bit ('orix': conda)",
   "language": "python",
   "name": "python3"
  },
  "language_info": {
   "codemirror_mode": {
    "name": "ipython",
    "version": 3
   },
   "file_extension": ".py",
   "mimetype": "text/x-python",
   "name": "python",
   "nbconvert_exporter": "python",
   "pygments_lexer": "ipython3",
   "version": "3.9.7"
  },
  "orig_nbformat": 4
 },
 "nbformat": 4,
 "nbformat_minor": 2
}
